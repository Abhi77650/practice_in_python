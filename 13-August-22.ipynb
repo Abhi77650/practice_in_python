{
 "cells": [
  {
   "cell_type": "code",
   "execution_count": 5,
   "id": "9b1580ec",
   "metadata": {},
   "outputs": [],
   "source": [
    "class student:\n",
    "    def __init__(self,rollno,name):\n",
    "        self.rollno=rollno\n",
    "        self.name=name\n",
    "        \n",
    "    def display(self):  # user difene function\n",
    "        print(\"Student rollno=\",self.rollno,\" and Name =\",self.name)"
   ]
  },
  {
   "cell_type": "code",
   "execution_count": 10,
   "id": "7db5bfa2",
   "metadata": {},
   "outputs": [
    {
     "name": "stdout",
     "output_type": "stream",
     "text": [
      "Student rollno= 201  and Name = John\n"
     ]
    }
   ],
   "source": [
    "obj1=student(201,\"John\")\n",
    "obj1.display()"
   ]
  },
  {
   "cell_type": "code",
   "execution_count": 13,
   "id": "f15fe733",
   "metadata": {},
   "outputs": [],
   "source": [
    " Stud1=student(202, \"Andrew\")"
   ]
  },
  {
   "cell_type": "code",
   "execution_count": 14,
   "id": "fdfd0c5e",
   "metadata": {},
   "outputs": [
    {
     "name": "stdout",
     "output_type": "stream",
     "text": [
      "Student rollno= 202  and Name = Andrew\n"
     ]
    }
   ],
   "source": [
    "Stud1.display()"
   ]
  },
  {
   "cell_type": "code",
   "execution_count": 15,
   "id": "1f9c6a4b",
   "metadata": {},
   "outputs": [
    {
     "name": "stdout",
     "output_type": "stream",
     "text": [
      "Student rollno= 203  and Name = Tom\n"
     ]
    }
   ],
   "source": [
    "Stud2=student(203,'Tom')   #this line will automatically invoke the initilization constructor\n",
    "Stud2.display()"
   ]
  },
  {
   "cell_type": "code",
   "execution_count": 16,
   "id": "bce2a8f9",
   "metadata": {},
   "outputs": [
    {
     "name": "stdout",
     "output_type": "stream",
     "text": [
      "Student rollno= 204  and Name = Maria\n"
     ]
    }
   ],
   "source": [
    "Stud3=student(204,'Maria')   #this line will automatically invoke the initilization constructor\n",
    "Stud3.display()"
   ]
  },
  {
   "cell_type": "code",
   "execution_count": 21,
   "id": "cd4b0f98",
   "metadata": {},
   "outputs": [
    {
     "data": {
      "text/plain": [
       "202"
      ]
     },
     "execution_count": 21,
     "metadata": {},
     "output_type": "execute_result"
    }
   ],
   "source": [
    "Stud1.rollno"
   ]
  },
  {
   "cell_type": "code",
   "execution_count": 25,
   "id": "1875506c",
   "metadata": {},
   "outputs": [
    {
     "data": {
      "text/plain": [
       "'Tom'"
      ]
     },
     "execution_count": 25,
     "metadata": {},
     "output_type": "execute_result"
    }
   ],
   "source": [
    "Stud2.name"
   ]
  },
  {
   "cell_type": "code",
   "execution_count": 24,
   "id": "2482b6d8",
   "metadata": {},
   "outputs": [
    {
     "data": {
      "text/plain": [
       "203"
      ]
     },
     "execution_count": 24,
     "metadata": {},
     "output_type": "execute_result"
    }
   ],
   "source": [
    "Stud2.rollno"
   ]
  },
  {
   "cell_type": "code",
   "execution_count": 28,
   "id": "e64f2f3d",
   "metadata": {},
   "outputs": [
    {
     "data": {
      "text/plain": [
       "204"
      ]
     },
     "execution_count": 28,
     "metadata": {},
     "output_type": "execute_result"
    }
   ],
   "source": [
    "Stud3.rollno"
   ]
  },
  {
   "cell_type": "code",
   "execution_count": 39,
   "id": "54373607",
   "metadata": {},
   "outputs": [],
   "source": [
    "class Employee:\n",
    "    revenue=30000\n",
    "    def __init__(self,empno,name,sal):\n",
    "        self.empno=empno\n",
    "        self.name=name\n",
    "        self.sal=sal\n",
    "    \n",
    "        \n",
    "    def display(self):\n",
    "        print(self.empno,\" \",self.name,\" \",self.sal,\" \",self.revenue)"
   ]
  },
  {
   "cell_type": "code",
   "execution_count": 40,
   "id": "b7c15a96",
   "metadata": {},
   "outputs": [
    {
     "name": "stdout",
     "output_type": "stream",
     "text": [
      "101   Abhi   6000   30000\n",
      "102   Akash   8000   30000\n",
      "103   Ankur   4000   30000\n"
     ]
    }
   ],
   "source": [
    "emp1=Employee(101,'Abhi',6000)\n",
    "emp1.display()\n",
    "\n",
    "emp2=Employee(102,'Akash',8000)\n",
    "emp2.display()\n",
    "\n",
    "emp3=Employee(103,'Ankur',4000)\n",
    "emp3.display()"
   ]
  },
  {
   "cell_type": "code",
   "execution_count": 31,
   "id": "501fe3bf",
   "metadata": {},
   "outputs": [
    {
     "data": {
      "text/plain": [
       "30000"
      ]
     },
     "execution_count": 31,
     "metadata": {},
     "output_type": "execute_result"
    }
   ],
   "source": [
    "Employee.revenue"
   ]
  },
  {
   "cell_type": "code",
   "execution_count": 38,
   "id": "2aef6a61",
   "metadata": {},
   "outputs": [
    {
     "data": {
      "text/plain": [
       "30000"
      ]
     },
     "execution_count": 38,
     "metadata": {},
     "output_type": "execute_result"
    }
   ],
   "source": [
    "emp1.revenue"
   ]
  },
  {
   "cell_type": "code",
   "execution_count": null,
   "id": "495a1b2d",
   "metadata": {},
   "outputs": [],
   "source": []
  }
 ],
 "metadata": {
  "kernelspec": {
   "display_name": "Python 3 (ipykernel)",
   "language": "python",
   "name": "python3"
  },
  "language_info": {
   "codemirror_mode": {
    "name": "ipython",
    "version": 3
   },
   "file_extension": ".py",
   "mimetype": "text/x-python",
   "name": "python",
   "nbconvert_exporter": "python",
   "pygments_lexer": "ipython3",
   "version": "3.9.12"
  }
 },
 "nbformat": 4,
 "nbformat_minor": 5
}
