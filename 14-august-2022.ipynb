{
 "cells": [
  {
   "cell_type": "code",
   "execution_count": 3,
   "id": "4bdda490",
   "metadata": {},
   "outputs": [],
   "source": [
    "import keyword"
   ]
  },
  {
   "cell_type": "code",
   "execution_count": 4,
   "id": "cd48a327",
   "metadata": {},
   "outputs": [
    {
     "name": "stdout",
     "output_type": "stream",
     "text": [
      "['False', 'None', 'True', '__peg_parser__', 'and', 'as', 'assert', 'async', 'await', 'break', 'class', 'continue', 'def', 'del', 'elif', 'else', 'except', 'finally', 'for', 'from', 'global', 'if', 'import', 'in', 'is', 'lambda', 'nonlocal', 'not', 'or', 'pass', 'raise', 'return', 'try', 'while', 'with', 'yield']\n"
     ]
    }
   ],
   "source": [
    "print(keyword.kwlist)"
   ]
  },
  {
   "cell_type": "code",
   "execution_count": 5,
   "id": "7fbfd4ee",
   "metadata": {},
   "outputs": [],
   "source": [
    "import sys"
   ]
  },
  {
   "cell_type": "code",
   "execution_count": 6,
   "id": "3fc4a79e",
   "metadata": {},
   "outputs": [
    {
     "data": {
      "text/plain": [
       "['C:\\\\Users\\\\Abhinav Singh',\n",
       " 'C:\\\\ProgramData\\\\Anaconda3\\\\python39.zip',\n",
       " 'C:\\\\ProgramData\\\\Anaconda3\\\\DLLs',\n",
       " 'C:\\\\ProgramData\\\\Anaconda3\\\\lib',\n",
       " 'C:\\\\ProgramData\\\\Anaconda3',\n",
       " '',\n",
       " 'C:\\\\ProgramData\\\\Anaconda3\\\\lib\\\\site-packages',\n",
       " 'C:\\\\ProgramData\\\\Anaconda3\\\\lib\\\\site-packages\\\\win32',\n",
       " 'C:\\\\ProgramData\\\\Anaconda3\\\\lib\\\\site-packages\\\\win32\\\\lib',\n",
       " 'C:\\\\ProgramData\\\\Anaconda3\\\\lib\\\\site-packages\\\\Pythonwin']"
      ]
     },
     "execution_count": 6,
     "metadata": {},
     "output_type": "execute_result"
    }
   ],
   "source": [
    "sys.path"
   ]
  },
  {
   "cell_type": "code",
   "execution_count": 7,
   "id": "1d182b22",
   "metadata": {},
   "outputs": [],
   "source": [
    "import os"
   ]
  },
  {
   "cell_type": "code",
   "execution_count": 8,
   "id": "2c4c5898",
   "metadata": {},
   "outputs": [
    {
     "data": {
      "text/plain": [
       "'C:\\\\Users\\\\Abhinav Singh'"
      ]
     },
     "execution_count": 8,
     "metadata": {},
     "output_type": "execute_result"
    }
   ],
   "source": [
    "os.getcwd()"
   ]
  },
  {
   "cell_type": "code",
   "execution_count": 9,
   "id": "3b927962",
   "metadata": {},
   "outputs": [
    {
     "data": {
      "text/plain": [
       "['-1.14-windows.xml',\n",
       " '.accessibility.properties',\n",
       " '.astropy',\n",
       " '.conda',\n",
       " '.condarc',\n",
       " '.continuum',\n",
       " '.ipynb_checkpoints',\n",
       " '.ipython',\n",
       " '.jupyter',\n",
       " '.matplotlib',\n",
       " '.vscode',\n",
       " '09-09-2020.ipynb',\n",
       " '10 July data structure(Dictionary).ipynb',\n",
       " '10-09-2020.ipynb',\n",
       " '13-August-22.ipynb',\n",
       " '14-august-2022.ipynb',\n",
       " '16 july(LOOP).ipynb',\n",
       " '17 july(LOOP).ipynb',\n",
       " '23july(Loop)(Break and continue).ipynb',\n",
       " '24July(string function).ipynb',\n",
       " '30July(Function).ipynb',\n",
       " '31 july(user defined function) .ipynb',\n",
       " '3D Objects',\n",
       " '3June.ipynb',\n",
       " '6August(Function--(Global and local variable)).ipynb',\n",
       " '9 July data structure(list).ipynb',\n",
       " 'AppData',\n",
       " 'Application Data',\n",
       " 'Contacts',\n",
       " 'Cookies',\n",
       " 'Documents',\n",
       " 'Downloads',\n",
       " 'Favorites',\n",
       " 'IntelGraphicsProfiles',\n",
       " 'Links',\n",
       " 'Local Settings',\n",
       " 'Music',\n",
       " 'My Documents',\n",
       " 'My First Notebook.ipynb',\n",
       " 'NetHood',\n",
       " 'NTUSER.DAT',\n",
       " 'ntuser.dat.LOG1',\n",
       " 'ntuser.dat.LOG2',\n",
       " 'NTUSER.DAT{a2332f18-cdbf-11ec-8680-002248483d79}.TM.blf',\n",
       " 'NTUSER.DAT{a2332f18-cdbf-11ec-8680-002248483d79}.TMContainer00000000000000000001.regtrans-ms',\n",
       " 'NTUSER.DAT{a2332f18-cdbf-11ec-8680-002248483d79}.TMContainer00000000000000000002.regtrans-ms',\n",
       " 'ntuser.ini',\n",
       " 'OneDrive',\n",
       " 'oops (Class).ipynb',\n",
       " 'PRACTICE ASSIGMENT.ipynb',\n",
       " 'PrintHood',\n",
       " 'PycharmProjects',\n",
       " 'Recent',\n",
       " 'Saved Games',\n",
       " 'Searches',\n",
       " 'SendTo',\n",
       " 'Start Menu',\n",
       " 'student_database.db',\n",
       " 'Templates',\n",
       " 'Untitled.ipynb',\n",
       " 'Videos']"
      ]
     },
     "execution_count": 9,
     "metadata": {},
     "output_type": "execute_result"
    }
   ],
   "source": [
    "os.listdir()"
   ]
  },
  {
   "cell_type": "code",
   "execution_count": 10,
   "id": "c539091f",
   "metadata": {},
   "outputs": [],
   "source": [
    "import math"
   ]
  },
  {
   "cell_type": "code",
   "execution_count": 11,
   "id": "5a66d306",
   "metadata": {},
   "outputs": [
    {
     "data": {
      "text/plain": [
       "3.141592653589793"
      ]
     },
     "execution_count": 11,
     "metadata": {},
     "output_type": "execute_result"
    }
   ],
   "source": [
    "math.pi"
   ]
  },
  {
   "cell_type": "code",
   "execution_count": 16,
   "id": "6021f77c",
   "metadata": {},
   "outputs": [],
   "source": [
    "radius=7"
   ]
  },
  {
   "cell_type": "code",
   "execution_count": 18,
   "id": "ae27e6c2",
   "metadata": {},
   "outputs": [
    {
     "data": {
      "text/plain": [
       "153.94"
      ]
     },
     "execution_count": 18,
     "metadata": {},
     "output_type": "execute_result"
    }
   ],
   "source": [
    "areaofcircle=math.pi*(radius**2)\n",
    "round(areaofcircle,2)"
   ]
  },
  {
   "cell_type": "code",
   "execution_count": 22,
   "id": "acd502fd",
   "metadata": {},
   "outputs": [
    {
     "name": "stdout",
     "output_type": "stream",
     "text": [
      "enter any value81\n"
     ]
    },
    {
     "data": {
      "text/plain": [
       "9.0"
      ]
     },
     "execution_count": 22,
     "metadata": {},
     "output_type": "execute_result"
    }
   ],
   "source": [
    "def find_sqrt(x):\n",
    "    return math.sqrt(x)\n",
    "    \n",
    "    \n",
    "x=int(input(\"enter any value\"))\n",
    "find_sqrt(x)    "
   ]
  },
  {
   "cell_type": "code",
   "execution_count": 13,
   "id": "b639c816",
   "metadata": {},
   "outputs": [
    {
     "data": {
      "text/plain": [
       "5.0"
      ]
     },
     "execution_count": 13,
     "metadata": {},
     "output_type": "execute_result"
    }
   ],
   "source": [
    "math.sqrt(25)"
   ]
  },
  {
   "cell_type": "code",
   "execution_count": 26,
   "id": "24bb1437",
   "metadata": {},
   "outputs": [
    {
     "name": "stdout",
     "output_type": "stream",
     "text": [
      "enter any value5\n",
      "enter any value3\n"
     ]
    },
    {
     "data": {
      "text/plain": [
       "125.0"
      ]
     },
     "execution_count": 26,
     "metadata": {},
     "output_type": "execute_result"
    }
   ],
   "source": [
    "def func_power(a,b):\n",
    "    return math.pow(a,b)\n",
    "\n",
    "a=int(input(\"enter any value\"))\n",
    "b=int(input(\"enter any value\"))\n",
    "func_power(a,b)"
   ]
  },
  {
   "cell_type": "code",
   "execution_count": 15,
   "id": "fcce9ca1",
   "metadata": {},
   "outputs": [
    {
     "data": {
      "text/plain": [
       "8.0"
      ]
     },
     "execution_count": 15,
     "metadata": {},
     "output_type": "execute_result"
    }
   ],
   "source": [
    "math.pow(2,3)"
   ]
  },
  {
   "cell_type": "code",
   "execution_count": 27,
   "id": "e20f4f60",
   "metadata": {},
   "outputs": [],
   "source": [
    "import math as mt"
   ]
  },
  {
   "cell_type": "code",
   "execution_count": 28,
   "id": "0368b202",
   "metadata": {},
   "outputs": [
    {
     "data": {
      "text/plain": [
       "3.141592653589793"
      ]
     },
     "execution_count": 28,
     "metadata": {},
     "output_type": "execute_result"
    }
   ],
   "source": [
    "mt.pi"
   ]
  },
  {
   "cell_type": "code",
   "execution_count": 29,
   "id": "c3865ba1",
   "metadata": {},
   "outputs": [
    {
     "data": {
      "text/plain": [
       "153.94"
      ]
     },
     "execution_count": 29,
     "metadata": {},
     "output_type": "execute_result"
    }
   ],
   "source": [
    "areaofcircle=mt.pi*(radius**2)\n",
    "round(areaofcircle,2)"
   ]
  },
  {
   "cell_type": "code",
   "execution_count": 30,
   "id": "40479f58",
   "metadata": {},
   "outputs": [
    {
     "data": {
      "text/plain": [
       "8.0"
      ]
     },
     "execution_count": 30,
     "metadata": {},
     "output_type": "execute_result"
    }
   ],
   "source": [
    "mt.sqrt(64)"
   ]
  },
  {
   "cell_type": "code",
   "execution_count": 31,
   "id": "c966c42e",
   "metadata": {},
   "outputs": [
    {
     "name": "stdout",
     "output_type": "stream",
     "text": [
      "enter any value64\n"
     ]
    },
    {
     "data": {
      "text/plain": [
       "8.0"
      ]
     },
     "execution_count": 31,
     "metadata": {},
     "output_type": "execute_result"
    }
   ],
   "source": [
    "def find_sqrt(x):\n",
    "    return math.sqrt(x)\n",
    "    \n",
    "    \n",
    "x=int(input(\"enter any value\"))\n",
    "find_sqrt(x)    "
   ]
  },
  {
   "cell_type": "code",
   "execution_count": 32,
   "id": "5260cf9f",
   "metadata": {},
   "outputs": [],
   "source": [
    "from math import pi"
   ]
  },
  {
   "cell_type": "code",
   "execution_count": 33,
   "id": "9ca2fa54",
   "metadata": {},
   "outputs": [
    {
     "data": {
      "text/plain": [
       "3.141592653589793"
      ]
     },
     "execution_count": 33,
     "metadata": {},
     "output_type": "execute_result"
    }
   ],
   "source": [
    "pi"
   ]
  },
  {
   "cell_type": "code",
   "execution_count": 36,
   "id": "79f86706",
   "metadata": {},
   "outputs": [],
   "source": [
    "from math import sqrt,pow"
   ]
  },
  {
   "cell_type": "code",
   "execution_count": 37,
   "id": "f0f94b2b",
   "metadata": {},
   "outputs": [
    {
     "data": {
      "text/plain": [
       "9.0"
      ]
     },
     "execution_count": 37,
     "metadata": {},
     "output_type": "execute_result"
    }
   ],
   "source": [
    "sqrt(81)"
   ]
  },
  {
   "cell_type": "code",
   "execution_count": 38,
   "id": "0ff2a4cc",
   "metadata": {},
   "outputs": [
    {
     "data": {
      "text/plain": [
       "9.0"
      ]
     },
     "execution_count": 38,
     "metadata": {},
     "output_type": "execute_result"
    }
   ],
   "source": [
    "pow(3,2)"
   ]
  },
  {
   "cell_type": "code",
   "execution_count": 42,
   "id": "c4beaf50",
   "metadata": {},
   "outputs": [
    {
     "data": {
      "text/plain": [
       "dict_keys(['__name__', '__doc__', '__package__', '__loader__', '__spec__', 'acos', 'acosh', 'asin', 'asinh', 'atan', 'atan2', 'atanh', 'ceil', 'copysign', 'cos', 'cosh', 'degrees', 'dist', 'erf', 'erfc', 'exp', 'expm1', 'fabs', 'factorial', 'floor', 'fmod', 'frexp', 'fsum', 'gamma', 'gcd', 'hypot', 'isclose', 'isfinite', 'isinf', 'isnan', 'isqrt', 'lcm', 'ldexp', 'lgamma', 'log', 'log1p', 'log10', 'log2', 'modf', 'pow', 'radians', 'remainder', 'sin', 'sinh', 'sqrt', 'tan', 'tanh', 'trunc', 'prod', 'perm', 'comb', 'nextafter', 'ulp', 'pi', 'e', 'tau', 'inf', 'nan'])"
      ]
     },
     "execution_count": 42,
     "metadata": {},
     "output_type": "execute_result"
    }
   ],
   "source": [
    "math.__dict__.keys()"
   ]
  },
  {
   "cell_type": "markdown",
   "id": "04ddebd7",
   "metadata": {},
   "source": [
    "# Get current Date and Time"
   ]
  },
  {
   "cell_type": "code",
   "execution_count": 43,
   "id": "2c64d68b",
   "metadata": {},
   "outputs": [],
   "source": [
    "import datetime"
   ]
  },
  {
   "cell_type": "code",
   "execution_count": 44,
   "id": "7572ae78",
   "metadata": {},
   "outputs": [
    {
     "data": {
      "text/plain": [
       "datetime.datetime(2022, 10, 18, 11, 32, 38, 539821)"
      ]
     },
     "execution_count": 44,
     "metadata": {},
     "output_type": "execute_result"
    }
   ],
   "source": [
    "dt=datetime.datetime.now()\n",
    "dt"
   ]
  },
  {
   "cell_type": "markdown",
   "id": "76fc8ebf",
   "metadata": {},
   "source": [
    "get current date"
   ]
  },
  {
   "cell_type": "code",
   "execution_count": 47,
   "id": "2c8f5344",
   "metadata": {},
   "outputs": [
    {
     "data": {
      "text/plain": [
       "datetime.date(2022, 10, 18)"
      ]
     },
     "execution_count": 47,
     "metadata": {},
     "output_type": "execute_result"
    }
   ],
   "source": [
    "dt1=datetime.date.today()\n",
    "dt1"
   ]
  },
  {
   "cell_type": "markdown",
   "id": "2a7aa0cb",
   "metadata": {},
   "source": [
    "commonly used classes in the datetime modue are:\n",
    "   date class\n",
    "   time class\n",
    "   datetime class\n",
    "   timedelta class"
   ]
  },
  {
   "cell_type": "code",
   "execution_count": 49,
   "id": "4ebab138",
   "metadata": {},
   "outputs": [
    {
     "data": {
      "text/plain": [
       "datetime.date(2022, 8, 14)"
      ]
     },
     "execution_count": 49,
     "metadata": {},
     "output_type": "execute_result"
    }
   ],
   "source": [
    "import datetime\n",
    "d=datetime.date(2022,8,14)\n",
    "d"
   ]
  },
  {
   "cell_type": "code",
   "execution_count": 50,
   "id": "94392af5",
   "metadata": {},
   "outputs": [
    {
     "data": {
      "text/plain": [
       "datetime.date(2021, 5, 26)"
      ]
     },
     "execution_count": 50,
     "metadata": {},
     "output_type": "execute_result"
    }
   ],
   "source": [
    "from datetime import date\n",
    "a=date(2021,5,26)\n",
    "a"
   ]
  },
  {
   "cell_type": "code",
   "execution_count": 51,
   "id": "8cb2915f",
   "metadata": {},
   "outputs": [
    {
     "data": {
      "text/plain": [
       "datetime.date(2022, 10, 18)"
      ]
     },
     "execution_count": 51,
     "metadata": {},
     "output_type": "execute_result"
    }
   ],
   "source": [
    "td=date.today()\n",
    "td"
   ]
  },
  {
   "cell_type": "code",
   "execution_count": 52,
   "id": "ab2f3e58",
   "metadata": {},
   "outputs": [
    {
     "name": "stdout",
     "output_type": "stream",
     "text": [
      "year= 2022\n",
      "month= 10\n",
      "day= 18\n"
     ]
    }
   ],
   "source": [
    "print('year=',td.year)\n",
    "print('month=',td.month)\n",
    "print('day=',td.day)"
   ]
  },
  {
   "cell_type": "code",
   "execution_count": 55,
   "id": "e44373b1",
   "metadata": {},
   "outputs": [
    {
     "name": "stdout",
     "output_type": "stream",
     "text": [
      "00:00:00\n",
      "12:35:56\n"
     ]
    }
   ],
   "source": [
    "from datetime import time\n",
    "a=time()\n",
    "print(a)\n",
    "\n",
    "b=time(12,35,56)\n",
    "print(b)"
   ]
  },
  {
   "cell_type": "code",
   "execution_count": 56,
   "id": "d771f3ea",
   "metadata": {},
   "outputs": [
    {
     "name": "stdout",
     "output_type": "stream",
     "text": [
      "hour: 12\n",
      "minute: 35\n",
      "second: 56\n"
     ]
    }
   ],
   "source": [
    "print('hour:',b.hour)\n",
    "print('minute:',b.minute)\n",
    "print('second:',b.second)"
   ]
  },
  {
   "cell_type": "code",
   "execution_count": null,
   "id": "6d09dac5",
   "metadata": {},
   "outputs": [],
   "source": []
  }
 ],
 "metadata": {
  "kernelspec": {
   "display_name": "Python 3 (ipykernel)",
   "language": "python",
   "name": "python3"
  },
  "language_info": {
   "codemirror_mode": {
    "name": "ipython",
    "version": 3
   },
   "file_extension": ".py",
   "mimetype": "text/x-python",
   "name": "python",
   "nbconvert_exporter": "python",
   "pygments_lexer": "ipython3",
   "version": "3.9.12"
  }
 },
 "nbformat": 4,
 "nbformat_minor": 5
}
