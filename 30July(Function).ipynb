{
 "cells": [
  {
   "cell_type": "code",
   "execution_count": 25,
   "id": "8654c4b8",
   "metadata": {},
   "outputs": [
    {
     "name": "stdout",
     "output_type": "stream",
     "text": [
      "\n",
      "Welcome to Python 3.9's help utility!\n",
      "\n",
      "If this is your first time using Python, you should definitely check out\n",
      "the tutorial on the Internet at https://docs.python.org/3.9/tutorial/.\n",
      "\n",
      "Enter the name of any module, keyword, or topic to get help on writing\n",
      "Python programs and using Python modules.  To quit this help utility and\n",
      "return to the interpreter, just type \"quit\".\n",
      "\n",
      "To get a list of available modules, keywords, symbols, or topics, type\n",
      "\"modules\", \"keywords\", \"symbols\", or \"topics\".  Each module also comes\n",
      "with a one-line summary of what it does; to list the modules whose name\n",
      "or summary contain a given string such as \"spam\", type \"modules spam\".\n",
      "\n",
      "\n",
      "You are now leaving help and returning to the Python interpreter.\n",
      "If you want to ask for help on a particular object directly from the\n",
      "interpreter, you can type \"help(object)\".  Executing \"help('string')\"\n",
      "has the same effect as typing a particular string at the help> prompt.\n"
     ]
    }
   ],
   "source": [
    "help()"
   ]
  },
  {
   "cell_type": "markdown",
   "id": "384d4835",
   "metadata": {},
   "source": [
    "user -defined Functions"
   ]
  },
  {
   "cell_type": "code",
   "execution_count": 26,
   "id": "f4c1fefd",
   "metadata": {},
   "outputs": [],
   "source": [
    "#function definaction\n",
    "def function1():\n",
    "    print(\"hello\")"
   ]
  },
  {
   "cell_type": "code",
   "execution_count": 27,
   "id": "09b3fab5",
   "metadata": {},
   "outputs": [
    {
     "name": "stdout",
     "output_type": "stream",
     "text": [
      "hello\n"
     ]
    }
   ],
   "source": [
    "#calling of function\n",
    "\n",
    "function1()"
   ]
  },
  {
   "cell_type": "code",
   "execution_count": 28,
   "id": "810ae9f2",
   "metadata": {},
   "outputs": [],
   "source": [
    "def function2():\n",
    "    print(\"inside function2\")"
   ]
  },
  {
   "cell_type": "code",
   "execution_count": 29,
   "id": "8c97634d",
   "metadata": {},
   "outputs": [
    {
     "name": "stdout",
     "output_type": "stream",
     "text": [
      "inside function2\n"
     ]
    }
   ],
   "source": [
    "function2()"
   ]
  },
  {
   "cell_type": "code",
   "execution_count": 31,
   "id": "28f17d61",
   "metadata": {},
   "outputs": [],
   "source": [
    "def function3():\n",
    "    print(\"learning\")\n",
    "    print(\"inside function3\")\n",
    "    print(\"user defined function\")"
   ]
  },
  {
   "cell_type": "code",
   "execution_count": 32,
   "id": "f12a1783",
   "metadata": {},
   "outputs": [
    {
     "name": "stdout",
     "output_type": "stream",
     "text": [
      "learning\n",
      "inside function3\n",
      "user defined function\n"
     ]
    }
   ],
   "source": [
    "function3()"
   ]
  },
  {
   "cell_type": "code",
   "execution_count": 33,
   "id": "024cf120",
   "metadata": {},
   "outputs": [],
   "source": [
    "def addition():\n",
    "    a=10\n",
    "    b=20\n",
    "    c=a+b\n",
    "    print(\"The value of c=\",c)"
   ]
  },
  {
   "cell_type": "code",
   "execution_count": 34,
   "id": "163624f5",
   "metadata": {},
   "outputs": [
    {
     "name": "stdout",
     "output_type": "stream",
     "text": [
      "The value of c= 30\n"
     ]
    }
   ],
   "source": [
    "addition()"
   ]
  },
  {
   "cell_type": "code",
   "execution_count": 35,
   "id": "e15a7db8",
   "metadata": {},
   "outputs": [],
   "source": [
    "def substraction():\n",
    "    a=90\n",
    "    b=20\n",
    "    print(\"The value of subtraction=\",a-b)"
   ]
  },
  {
   "cell_type": "code",
   "execution_count": 36,
   "id": "aabf0156",
   "metadata": {},
   "outputs": [
    {
     "name": "stdout",
     "output_type": "stream",
     "text": [
      "The value of subtraction= 70\n"
     ]
    }
   ],
   "source": [
    "substraction()"
   ]
  },
  {
   "cell_type": "code",
   "execution_count": 37,
   "id": "18880f31",
   "metadata": {},
   "outputs": [],
   "source": [
    "def function_addition():\n",
    "    a=10\n",
    "    b=20\n",
    "    c=a+b\n",
    "    print(\"The value of c=\",c)"
   ]
  },
  {
   "cell_type": "code",
   "execution_count": 38,
   "id": "e9848336",
   "metadata": {},
   "outputs": [
    {
     "name": "stdout",
     "output_type": "stream",
     "text": [
      "The value of c= 30\n"
     ]
    }
   ],
   "source": [
    "function_addition()"
   ]
  },
  {
   "cell_type": "code",
   "execution_count": 39,
   "id": "d05f73a8",
   "metadata": {},
   "outputs": [],
   "source": [
    "def multiply_func():\n",
    "    x=5\n",
    "    y=4\n",
    "    z=x*y\n",
    "    print(\"multiplication of z=\",z)"
   ]
  },
  {
   "cell_type": "code",
   "execution_count": 40,
   "id": "d71b81fe",
   "metadata": {},
   "outputs": [
    {
     "name": "stdout",
     "output_type": "stream",
     "text": [
      "multiplication of z= 20\n"
     ]
    }
   ],
   "source": [
    "multiply_func()"
   ]
  },
  {
   "cell_type": "code",
   "execution_count": 41,
   "id": "9dd36219",
   "metadata": {},
   "outputs": [],
   "source": [
    "def multiply_func():\n",
    "    x=5\n",
    "    y=4\n",
    "    z=x*y\n",
    "    print(\"multiplication of x=\",x,\" and y=\",y,\"=\",x*y)"
   ]
  },
  {
   "cell_type": "code",
   "execution_count": 42,
   "id": "fc674578",
   "metadata": {},
   "outputs": [
    {
     "name": "stdout",
     "output_type": "stream",
     "text": [
      "multiplication of x= 5  and y= 4 = 20\n"
     ]
    }
   ],
   "source": [
    "multiply_func()"
   ]
  },
  {
   "cell_type": "code",
   "execution_count": 43,
   "id": "a44b49ab",
   "metadata": {},
   "outputs": [],
   "source": [
    "def square_func():\n",
    "    x=6\n",
    "    print(\"The squared value is\",x**2)"
   ]
  },
  {
   "cell_type": "code",
   "execution_count": 44,
   "id": "c9935bb8",
   "metadata": {},
   "outputs": [
    {
     "name": "stdout",
     "output_type": "stream",
     "text": [
      "The squared value is 36\n"
     ]
    }
   ],
   "source": [
    "square_func()"
   ]
  },
  {
   "cell_type": "code",
   "execution_count": 48,
   "id": "efea7ab9",
   "metadata": {},
   "outputs": [],
   "source": [
    "def area_of_circle():\n",
    "    pi=3.14\n",
    "    radius=5\n",
    "    area=pi*(radius**2)\n",
    "    print(\"The area of circle=\",area)\n",
    "    print(\"The area of circle with values of pi=\",pi,\"and radius=\",radius,\"is\",area)"
   ]
  },
  {
   "cell_type": "code",
   "execution_count": 49,
   "id": "22b13048",
   "metadata": {},
   "outputs": [
    {
     "name": "stdout",
     "output_type": "stream",
     "text": [
      "The area of circle= 78.5\n",
      "The area of circle with values of pi= 3.14 and radius= 5 is 78.5\n"
     ]
    }
   ],
   "source": [
    "area_of_circle()"
   ]
  },
  {
   "cell_type": "code",
   "execution_count": 50,
   "id": "dcdb460f",
   "metadata": {},
   "outputs": [],
   "source": [
    "def area_of_rectangle():\n",
    "    length=200\n",
    "    breadth=100\n",
    "    area_rect=length*breadth\n",
    "    print(\"The area of rectangle=\",area_rect)\n",
    "    print(\"The area of rectangle with length=\",length,\"metre and breadth=\",breadth,\"metre is \",area_rect)"
   ]
  },
  {
   "cell_type": "code",
   "execution_count": 51,
   "id": "1aa45049",
   "metadata": {},
   "outputs": [
    {
     "name": "stdout",
     "output_type": "stream",
     "text": [
      "The area of rectangle= 20000\n",
      "The area of rectangle with length= 200 metre and breadth= 100 metre is  20000\n"
     ]
    }
   ],
   "source": [
    "area_of_rectangle()"
   ]
  },
  {
   "cell_type": "code",
   "execution_count": null,
   "id": "e211b905",
   "metadata": {},
   "outputs": [],
   "source": []
  }
 ],
 "metadata": {
  "kernelspec": {
   "display_name": "Python 3 (ipykernel)",
   "language": "python",
   "name": "python3"
  },
  "language_info": {
   "codemirror_mode": {
    "name": "ipython",
    "version": 3
   },
   "file_extension": ".py",
   "mimetype": "text/x-python",
   "name": "python",
   "nbconvert_exporter": "python",
   "pygments_lexer": "ipython3",
   "version": "3.9.12"
  }
 },
 "nbformat": 4,
 "nbformat_minor": 5
}
