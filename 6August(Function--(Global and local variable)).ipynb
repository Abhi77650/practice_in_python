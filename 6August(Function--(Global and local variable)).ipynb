{
 "cells": [
  {
   "cell_type": "markdown",
   "id": "661547ac",
   "metadata": {},
   "source": [
    "GLOBAL AND LOCAL VARIABLE"
   ]
  },
  {
   "cell_type": "code",
   "execution_count": 1,
   "id": "7cfe3373",
   "metadata": {},
   "outputs": [],
   "source": [
    "testx=100"
   ]
  },
  {
   "cell_type": "code",
   "execution_count": 5,
   "id": "2e410428",
   "metadata": {},
   "outputs": [],
   "source": [
    "def func():\n",
    "    global testx\n",
    "    p=45  #Local variable\n",
    "    print(p)"
   ]
  },
  {
   "cell_type": "code",
   "execution_count": 7,
   "id": "a15754ef",
   "metadata": {},
   "outputs": [
    {
     "name": "stdout",
     "output_type": "stream",
     "text": [
      "45\n"
     ]
    }
   ],
   "source": [
    "func()"
   ]
  },
  {
   "cell_type": "code",
   "execution_count": 4,
   "id": "288a97c3",
   "metadata": {},
   "outputs": [
    {
     "data": {
      "text/plain": [
       "100"
      ]
     },
     "execution_count": 4,
     "metadata": {},
     "output_type": "execute_result"
    }
   ],
   "source": [
    "testx"
   ]
  },
  {
   "cell_type": "code",
   "execution_count": 8,
   "id": "d1713635",
   "metadata": {},
   "outputs": [],
   "source": [
    "m=345"
   ]
  },
  {
   "cell_type": "code",
   "execution_count": 11,
   "id": "2a776748",
   "metadata": {},
   "outputs": [],
   "source": [
    "def function2():\n",
    "    m=900  #Local variable\n",
    "    print(m)"
   ]
  },
  {
   "cell_type": "code",
   "execution_count": 12,
   "id": "9a61d011",
   "metadata": {},
   "outputs": [
    {
     "name": "stdout",
     "output_type": "stream",
     "text": [
      "900\n"
     ]
    }
   ],
   "source": [
    "function2()"
   ]
  },
  {
   "cell_type": "code",
   "execution_count": 17,
   "id": "17636844",
   "metadata": {},
   "outputs": [],
   "source": [
    "def f1():\n",
    "    a=10\n",
    "    print(a)"
   ]
  },
  {
   "cell_type": "code",
   "execution_count": 20,
   "id": "0a78102e",
   "metadata": {},
   "outputs": [],
   "source": [
    "def f2():\n",
    "    f1()"
   ]
  },
  {
   "cell_type": "code",
   "execution_count": 21,
   "id": "0da17d75",
   "metadata": {},
   "outputs": [
    {
     "name": "stdout",
     "output_type": "stream",
     "text": [
      "10\n"
     ]
    }
   ],
   "source": [
    "f2()"
   ]
  },
  {
   "cell_type": "code",
   "execution_count": 22,
   "id": "2eabbe91",
   "metadata": {},
   "outputs": [],
   "source": [
    "def func1():\n",
    "    x=10\n",
    "    y=5\n",
    "    print(\"add=\",x+y)"
   ]
  },
  {
   "cell_type": "code",
   "execution_count": 23,
   "id": "5de112e1",
   "metadata": {},
   "outputs": [],
   "source": [
    "def func2():\n",
    "    func1() #calling inner function\n",
    "    a=100\n",
    "    b=20\n",
    "    print(\"substraction\",a-b)"
   ]
  },
  {
   "cell_type": "code",
   "execution_count": 24,
   "id": "6197e1c5",
   "metadata": {},
   "outputs": [
    {
     "name": "stdout",
     "output_type": "stream",
     "text": [
      "add= 15\n",
      "substraction 80\n"
     ]
    }
   ],
   "source": [
    "func2()"
   ]
  },
  {
   "cell_type": "markdown",
   "id": "6e37bc59",
   "metadata": {},
   "source": [
    "RETURN Keyword"
   ]
  },
  {
   "cell_type": "code",
   "execution_count": 26,
   "id": "734fe9fc",
   "metadata": {},
   "outputs": [],
   "source": [
    "def func1():\n",
    "    a=40\n",
    "    b=30\n",
    "    c=a+b\n",
    "    print(\"c=\",c)"
   ]
  },
  {
   "cell_type": "code",
   "execution_count": 27,
   "id": "23b7b85a",
   "metadata": {},
   "outputs": [
    {
     "name": "stdout",
     "output_type": "stream",
     "text": [
      "c= 70\n"
     ]
    }
   ],
   "source": [
    "func1()"
   ]
  },
  {
   "cell_type": "code",
   "execution_count": 28,
   "id": "0df604f5",
   "metadata": {},
   "outputs": [],
   "source": [
    "def func1():\n",
    "    a=40\n",
    "    b=30\n",
    "    c=a+b\n",
    "    return c"
   ]
  },
  {
   "cell_type": "code",
   "execution_count": 29,
   "id": "3cc18ac1",
   "metadata": {},
   "outputs": [
    {
     "data": {
      "text/plain": [
       "70"
      ]
     },
     "execution_count": 29,
     "metadata": {},
     "output_type": "execute_result"
    }
   ],
   "source": [
    "func1()"
   ]
  },
  {
   "cell_type": "code",
   "execution_count": 30,
   "id": "01a10965",
   "metadata": {},
   "outputs": [],
   "source": [
    "h=func1()"
   ]
  },
  {
   "cell_type": "code",
   "execution_count": 31,
   "id": "b7db4e1b",
   "metadata": {},
   "outputs": [
    {
     "data": {
      "text/plain": [
       "70"
      ]
     },
     "execution_count": 31,
     "metadata": {},
     "output_type": "execute_result"
    }
   ],
   "source": [
    "h"
   ]
  },
  {
   "cell_type": "code",
   "execution_count": 32,
   "id": "c753858a",
   "metadata": {},
   "outputs": [],
   "source": [
    "def f1(h):\n",
    "    print(h-10)"
   ]
  },
  {
   "cell_type": "code",
   "execution_count": 33,
   "id": "a2bb430a",
   "metadata": {},
   "outputs": [
    {
     "name": "stdout",
     "output_type": "stream",
     "text": [
      "60\n"
     ]
    }
   ],
   "source": [
    "f1(h)"
   ]
  },
  {
   "cell_type": "code",
   "execution_count": 34,
   "id": "b5fc8199",
   "metadata": {},
   "outputs": [],
   "source": [
    "def function2():\n",
    "    x=100\n",
    "    y=40\n",
    "    z=x-y\n",
    "    return z"
   ]
  },
  {
   "cell_type": "code",
   "execution_count": 35,
   "id": "1f35a5b5",
   "metadata": {},
   "outputs": [],
   "source": [
    "s=function2()"
   ]
  },
  {
   "cell_type": "code",
   "execution_count": 36,
   "id": "70b7d5f1",
   "metadata": {},
   "outputs": [
    {
     "data": {
      "text/plain": [
       "60"
      ]
     },
     "execution_count": 36,
     "metadata": {},
     "output_type": "execute_result"
    }
   ],
   "source": [
    "s"
   ]
  },
  {
   "cell_type": "code",
   "execution_count": 43,
   "id": "de0d7545",
   "metadata": {},
   "outputs": [],
   "source": [
    "def function2():\n",
    "    x=100\n",
    "    y=40\n",
    "    z=x-y\n",
    "    print(\"z=\",z)"
   ]
  },
  {
   "cell_type": "code",
   "execution_count": 44,
   "id": "55d1d3fa",
   "metadata": {},
   "outputs": [
    {
     "name": "stdout",
     "output_type": "stream",
     "text": [
      "z= 60\n"
     ]
    }
   ],
   "source": [
    "function2()"
   ]
  },
  {
   "cell_type": "code",
   "execution_count": null,
   "id": "3d67d862",
   "metadata": {},
   "outputs": [],
   "source": []
  }
 ],
 "metadata": {
  "kernelspec": {
   "display_name": "Python 3 (ipykernel)",
   "language": "python",
   "name": "python3"
  },
  "language_info": {
   "codemirror_mode": {
    "name": "ipython",
    "version": 3
   },
   "file_extension": ".py",
   "mimetype": "text/x-python",
   "name": "python",
   "nbconvert_exporter": "python",
   "pygments_lexer": "ipython3",
   "version": "3.9.12"
  }
 },
 "nbformat": 4,
 "nbformat_minor": 5
}
