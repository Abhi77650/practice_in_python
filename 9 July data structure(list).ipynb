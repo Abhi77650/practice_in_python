{
 "cells": [
  {
   "cell_type": "code",
   "execution_count": 44,
   "id": "1842e7bc",
   "metadata": {},
   "outputs": [],
   "source": [
    "numlist=[10,20,30,40]"
   ]
  },
  {
   "cell_type": "code",
   "execution_count": 45,
   "id": "821cac3f",
   "metadata": {},
   "outputs": [
    {
     "data": {
      "text/plain": [
       "[10, 20, 30, 40]"
      ]
     },
     "execution_count": 45,
     "metadata": {},
     "output_type": "execute_result"
    }
   ],
   "source": [
    "numlist"
   ]
  },
  {
   "cell_type": "code",
   "execution_count": 46,
   "id": "567eaf7e",
   "metadata": {},
   "outputs": [],
   "source": [
    "numlist.append(60)"
   ]
  },
  {
   "cell_type": "code",
   "execution_count": 47,
   "id": "6c45f17d",
   "metadata": {},
   "outputs": [
    {
     "data": {
      "text/plain": [
       "[10, 20, 30, 40, 60]"
      ]
     },
     "execution_count": 47,
     "metadata": {},
     "output_type": "execute_result"
    }
   ],
   "source": [
    "numlist"
   ]
  },
  {
   "cell_type": "code",
   "execution_count": 48,
   "id": "79e57c36",
   "metadata": {},
   "outputs": [],
   "source": [
    "fruitlist=[\"banana\",\"mango\",\"apple\"]"
   ]
  },
  {
   "cell_type": "code",
   "execution_count": 49,
   "id": "bb65debc",
   "metadata": {},
   "outputs": [
    {
     "data": {
      "text/plain": [
       "3"
      ]
     },
     "execution_count": 49,
     "metadata": {},
     "output_type": "execute_result"
    }
   ],
   "source": [
    "len(fruitlist)"
   ]
  },
  {
   "cell_type": "code",
   "execution_count": 50,
   "id": "3a817d89",
   "metadata": {},
   "outputs": [],
   "source": [
    "fruitlist.append(\"papaya\")"
   ]
  },
  {
   "cell_type": "code",
   "execution_count": 51,
   "id": "76dbbbc3",
   "metadata": {},
   "outputs": [
    {
     "data": {
      "text/plain": [
       "['banana', 'mango', 'apple', 'papaya']"
      ]
     },
     "execution_count": 51,
     "metadata": {},
     "output_type": "execute_result"
    }
   ],
   "source": [
    "fruitlist"
   ]
  },
  {
   "cell_type": "code",
   "execution_count": 52,
   "id": "eb1ab488",
   "metadata": {},
   "outputs": [
    {
     "data": {
      "text/plain": [
       "4"
      ]
     },
     "execution_count": 52,
     "metadata": {},
     "output_type": "execute_result"
    }
   ],
   "source": [
    "len(fruitlist)"
   ]
  },
  {
   "cell_type": "code",
   "execution_count": 53,
   "id": "55a59480",
   "metadata": {},
   "outputs": [],
   "source": [
    "fruitlist.append(\"guava\")"
   ]
  },
  {
   "cell_type": "code",
   "execution_count": 54,
   "id": "ef21ccf0",
   "metadata": {},
   "outputs": [
    {
     "data": {
      "text/plain": [
       "['banana', 'mango', 'apple', 'papaya', 'guava']"
      ]
     },
     "execution_count": 54,
     "metadata": {},
     "output_type": "execute_result"
    }
   ],
   "source": [
    "fruitlist"
   ]
  },
  {
   "cell_type": "code",
   "execution_count": 55,
   "id": "52b50ff1",
   "metadata": {},
   "outputs": [
    {
     "data": {
      "text/plain": [
       "5"
      ]
     },
     "execution_count": 55,
     "metadata": {},
     "output_type": "execute_result"
    }
   ],
   "source": [
    "len(fruitlist)"
   ]
  },
  {
   "cell_type": "code",
   "execution_count": 56,
   "id": "71a40a28",
   "metadata": {},
   "outputs": [],
   "source": [
    "fruitlist.insert(1,\"kiwi\")"
   ]
  },
  {
   "cell_type": "code",
   "execution_count": 57,
   "id": "e5a52083",
   "metadata": {},
   "outputs": [
    {
     "data": {
      "text/plain": [
       "['banana', 'kiwi', 'mango', 'apple', 'papaya', 'guava']"
      ]
     },
     "execution_count": 57,
     "metadata": {},
     "output_type": "execute_result"
    }
   ],
   "source": [
    "fruitlist"
   ]
  },
  {
   "cell_type": "code",
   "execution_count": 58,
   "id": "f4c0c92b",
   "metadata": {},
   "outputs": [
    {
     "data": {
      "text/plain": [
       "6"
      ]
     },
     "execution_count": 58,
     "metadata": {},
     "output_type": "execute_result"
    }
   ],
   "source": [
    "len(fruitlist)"
   ]
  },
  {
   "cell_type": "code",
   "execution_count": 59,
   "id": "42543070",
   "metadata": {},
   "outputs": [],
   "source": [
    "fruitlist.insert(3,\"grapes\")"
   ]
  },
  {
   "cell_type": "code",
   "execution_count": 60,
   "id": "07880daa",
   "metadata": {},
   "outputs": [
    {
     "data": {
      "text/plain": [
       "['banana', 'kiwi', 'mango', 'grapes', 'apple', 'papaya', 'guava']"
      ]
     },
     "execution_count": 60,
     "metadata": {},
     "output_type": "execute_result"
    }
   ],
   "source": [
    "fruitlist"
   ]
  },
  {
   "cell_type": "code",
   "execution_count": 61,
   "id": "5f3f9a43",
   "metadata": {},
   "outputs": [],
   "source": [
    "fruitlist.sort()"
   ]
  },
  {
   "cell_type": "code",
   "execution_count": 62,
   "id": "75291f5b",
   "metadata": {},
   "outputs": [
    {
     "data": {
      "text/plain": [
       "['apple', 'banana', 'grapes', 'guava', 'kiwi', 'mango', 'papaya']"
      ]
     },
     "execution_count": 62,
     "metadata": {},
     "output_type": "execute_result"
    }
   ],
   "source": [
    "fruitlist"
   ]
  },
  {
   "cell_type": "code",
   "execution_count": 63,
   "id": "9b1bbe8d",
   "metadata": {},
   "outputs": [],
   "source": [
    "fruitlist.reverse()"
   ]
  },
  {
   "cell_type": "code",
   "execution_count": 64,
   "id": "aa2ce9df",
   "metadata": {},
   "outputs": [
    {
     "data": {
      "text/plain": [
       "['papaya', 'mango', 'kiwi', 'guava', 'grapes', 'banana', 'apple']"
      ]
     },
     "execution_count": 64,
     "metadata": {},
     "output_type": "execute_result"
    }
   ],
   "source": [
    "fruitlist"
   ]
  },
  {
   "cell_type": "code",
   "execution_count": 65,
   "id": "b30b029f",
   "metadata": {},
   "outputs": [
    {
     "data": {
      "text/plain": [
       "4"
      ]
     },
     "execution_count": 65,
     "metadata": {},
     "output_type": "execute_result"
    }
   ],
   "source": [
    "fruitlist.index(\"grapes\")"
   ]
  },
  {
   "cell_type": "code",
   "execution_count": 66,
   "id": "92407b92",
   "metadata": {},
   "outputs": [
    {
     "data": {
      "text/plain": [
       "6"
      ]
     },
     "execution_count": 66,
     "metadata": {},
     "output_type": "execute_result"
    }
   ],
   "source": [
    "fruitlist.index(\"apple\")"
   ]
  },
  {
   "cell_type": "code",
   "execution_count": 67,
   "id": "42c6f617",
   "metadata": {},
   "outputs": [
    {
     "data": {
      "text/plain": [
       "5"
      ]
     },
     "execution_count": 67,
     "metadata": {},
     "output_type": "execute_result"
    }
   ],
   "source": [
    "fruitlist.index(\"banana\")"
   ]
  },
  {
   "cell_type": "code",
   "execution_count": 69,
   "id": "f2cf7e5b",
   "metadata": {},
   "outputs": [
    {
     "data": {
      "text/plain": [
       "'kiwi'"
      ]
     },
     "execution_count": 69,
     "metadata": {},
     "output_type": "execute_result"
    }
   ],
   "source": [
    "fruitlist[2]"
   ]
  },
  {
   "cell_type": "code",
   "execution_count": 70,
   "id": "55985fae",
   "metadata": {},
   "outputs": [],
   "source": [
    "fruitlist[2]=\"pineapple\""
   ]
  },
  {
   "cell_type": "code",
   "execution_count": 71,
   "id": "464bb9f8",
   "metadata": {},
   "outputs": [
    {
     "data": {
      "text/plain": [
       "['papaya', 'mango', 'pineapple', 'guava', 'grapes', 'banana', 'apple']"
      ]
     },
     "execution_count": 71,
     "metadata": {},
     "output_type": "execute_result"
    }
   ],
   "source": [
    "fruitlist"
   ]
  },
  {
   "cell_type": "code",
   "execution_count": 72,
   "id": "87508318",
   "metadata": {},
   "outputs": [],
   "source": [
    "fruitlist.extend([\"melon\",\"avacado\",\"orange\"])"
   ]
  },
  {
   "cell_type": "code",
   "execution_count": 73,
   "id": "35700c9f",
   "metadata": {},
   "outputs": [
    {
     "data": {
      "text/plain": [
       "['papaya',\n",
       " 'mango',\n",
       " 'pineapple',\n",
       " 'guava',\n",
       " 'grapes',\n",
       " 'banana',\n",
       " 'apple',\n",
       " 'melon',\n",
       " 'avacado',\n",
       " 'orange']"
      ]
     },
     "execution_count": 73,
     "metadata": {},
     "output_type": "execute_result"
    }
   ],
   "source": [
    "fruitlist"
   ]
  },
  {
   "cell_type": "code",
   "execution_count": 74,
   "id": "8690801d",
   "metadata": {},
   "outputs": [
    {
     "data": {
      "text/plain": [
       "10"
      ]
     },
     "execution_count": 74,
     "metadata": {},
     "output_type": "execute_result"
    }
   ],
   "source": [
    "len(fruitlist)"
   ]
  },
  {
   "cell_type": "code",
   "execution_count": 75,
   "id": "96fcb2dd",
   "metadata": {},
   "outputs": [
    {
     "data": {
      "text/plain": [
       "'orange'"
      ]
     },
     "execution_count": 75,
     "metadata": {},
     "output_type": "execute_result"
    }
   ],
   "source": [
    "fruitlist.pop()"
   ]
  },
  {
   "cell_type": "code",
   "execution_count": 76,
   "id": "dddd9f75",
   "metadata": {},
   "outputs": [
    {
     "data": {
      "text/plain": [
       "['papaya',\n",
       " 'mango',\n",
       " 'pineapple',\n",
       " 'guava',\n",
       " 'grapes',\n",
       " 'banana',\n",
       " 'apple',\n",
       " 'melon',\n",
       " 'avacado']"
      ]
     },
     "execution_count": 76,
     "metadata": {},
     "output_type": "execute_result"
    }
   ],
   "source": [
    "fruitlist"
   ]
  },
  {
   "cell_type": "code",
   "execution_count": 77,
   "id": "5d381da8",
   "metadata": {},
   "outputs": [
    {
     "data": {
      "text/plain": [
       "'avacado'"
      ]
     },
     "execution_count": 77,
     "metadata": {},
     "output_type": "execute_result"
    }
   ],
   "source": [
    "fruitlist.pop()"
   ]
  },
  {
   "cell_type": "code",
   "execution_count": 78,
   "id": "7a473556",
   "metadata": {},
   "outputs": [
    {
     "data": {
      "text/plain": [
       "['papaya', 'mango', 'pineapple', 'guava', 'grapes', 'banana', 'apple', 'melon']"
      ]
     },
     "execution_count": 78,
     "metadata": {},
     "output_type": "execute_result"
    }
   ],
   "source": [
    "fruitlist"
   ]
  },
  {
   "cell_type": "code",
   "execution_count": 79,
   "id": "d40497c4",
   "metadata": {},
   "outputs": [
    {
     "data": {
      "text/plain": [
       "'pineapple'"
      ]
     },
     "execution_count": 79,
     "metadata": {},
     "output_type": "execute_result"
    }
   ],
   "source": [
    "fruitlist.pop(2)"
   ]
  },
  {
   "cell_type": "code",
   "execution_count": 80,
   "id": "82537021",
   "metadata": {},
   "outputs": [
    {
     "data": {
      "text/plain": [
       "['papaya', 'mango', 'guava', 'grapes', 'banana', 'apple', 'melon']"
      ]
     },
     "execution_count": 80,
     "metadata": {},
     "output_type": "execute_result"
    }
   ],
   "source": [
    "fruitlist"
   ]
  },
  {
   "cell_type": "code",
   "execution_count": 82,
   "id": "d5085513",
   "metadata": {},
   "outputs": [],
   "source": [
    "fruitlist.remove(\"mango\")"
   ]
  },
  {
   "cell_type": "code",
   "execution_count": 83,
   "id": "f219430d",
   "metadata": {},
   "outputs": [
    {
     "data": {
      "text/plain": [
       "['papaya', 'guava', 'grapes', 'banana', 'apple', 'melon']"
      ]
     },
     "execution_count": 83,
     "metadata": {},
     "output_type": "execute_result"
    }
   ],
   "source": [
    "fruitlist"
   ]
  },
  {
   "cell_type": "code",
   "execution_count": 84,
   "id": "e540c467",
   "metadata": {},
   "outputs": [],
   "source": [
    "fruitlist.clear()"
   ]
  },
  {
   "cell_type": "code",
   "execution_count": 85,
   "id": "8b3e7091",
   "metadata": {},
   "outputs": [
    {
     "data": {
      "text/plain": [
       "[]"
      ]
     },
     "execution_count": 85,
     "metadata": {},
     "output_type": "execute_result"
    }
   ],
   "source": [
    "fruitlist"
   ]
  },
  {
   "cell_type": "code",
   "execution_count": 86,
   "id": "5262d822",
   "metadata": {},
   "outputs": [
    {
     "data": {
      "text/plain": [
       "0"
      ]
     },
     "execution_count": 86,
     "metadata": {},
     "output_type": "execute_result"
    }
   ],
   "source": [
    "len(fruitlist)"
   ]
  },
  {
   "cell_type": "code",
   "execution_count": 87,
   "id": "6a4cf269",
   "metadata": {},
   "outputs": [],
   "source": [
    "fruitlist.append(\"apple\")"
   ]
  },
  {
   "cell_type": "code",
   "execution_count": 88,
   "id": "2677eb98",
   "metadata": {},
   "outputs": [
    {
     "data": {
      "text/plain": [
       "['apple']"
      ]
     },
     "execution_count": 88,
     "metadata": {},
     "output_type": "execute_result"
    }
   ],
   "source": [
    "fruitlist"
   ]
  },
  {
   "cell_type": "code",
   "execution_count": 89,
   "id": "8f164091",
   "metadata": {},
   "outputs": [],
   "source": [
    "fruitlist.append(\"kiwi\")"
   ]
  },
  {
   "cell_type": "code",
   "execution_count": 90,
   "id": "4ecf8848",
   "metadata": {},
   "outputs": [
    {
     "data": {
      "text/plain": [
       "['apple', 'kiwi']"
      ]
     },
     "execution_count": 90,
     "metadata": {},
     "output_type": "execute_result"
    }
   ],
   "source": [
    "fruitlist"
   ]
  },
  {
   "cell_type": "code",
   "execution_count": 91,
   "id": "66ae9585",
   "metadata": {},
   "outputs": [],
   "source": [
    "fruitlist.clear()"
   ]
  },
  {
   "cell_type": "code",
   "execution_count": 92,
   "id": "444fd3a6",
   "metadata": {},
   "outputs": [
    {
     "data": {
      "text/plain": [
       "[]"
      ]
     },
     "execution_count": 92,
     "metadata": {},
     "output_type": "execute_result"
    }
   ],
   "source": [
    "fruitlist"
   ]
  },
  {
   "cell_type": "code",
   "execution_count": 96,
   "id": "4d1dd3f1",
   "metadata": {},
   "outputs": [],
   "source": [
    "mobilelist=[\"Apple\",\"lenovo\",\"jio\"]"
   ]
  },
  {
   "cell_type": "code",
   "execution_count": 97,
   "id": "0961537b",
   "metadata": {},
   "outputs": [
    {
     "data": {
      "text/plain": [
       "['Apple', 'lenovo', 'jio']"
      ]
     },
     "execution_count": 97,
     "metadata": {},
     "output_type": "execute_result"
    }
   ],
   "source": [
    "mobilelist"
   ]
  },
  {
   "cell_type": "code",
   "execution_count": 98,
   "id": "e966c539",
   "metadata": {},
   "outputs": [],
   "source": [
    "mobilelist.append(\"vivo\")"
   ]
  },
  {
   "cell_type": "code",
   "execution_count": 99,
   "id": "f947b791",
   "metadata": {},
   "outputs": [
    {
     "data": {
      "text/plain": [
       "['Apple', 'lenovo', 'jio', 'vivo']"
      ]
     },
     "execution_count": 99,
     "metadata": {},
     "output_type": "execute_result"
    }
   ],
   "source": [
    "mobilelist"
   ]
  },
  {
   "cell_type": "code",
   "execution_count": 100,
   "id": "4272c447",
   "metadata": {},
   "outputs": [
    {
     "data": {
      "text/plain": [
       "[10, 20, 30, 40, 60]"
      ]
     },
     "execution_count": 100,
     "metadata": {},
     "output_type": "execute_result"
    }
   ],
   "source": [
    "numlist"
   ]
  },
  {
   "cell_type": "code",
   "execution_count": 101,
   "id": "7eb9b3a7",
   "metadata": {},
   "outputs": [],
   "source": [
    "numlist.remove(30)"
   ]
  },
  {
   "cell_type": "code",
   "execution_count": 107,
   "id": "56a550ae",
   "metadata": {
    "scrolled": true
   },
   "outputs": [
    {
     "data": {
      "text/plain": [
       "[10, 14, 40, 60]"
      ]
     },
     "execution_count": 107,
     "metadata": {},
     "output_type": "execute_result"
    }
   ],
   "source": [
    "numlist"
   ]
  },
  {
   "cell_type": "code",
   "execution_count": 103,
   "id": "81305edd",
   "metadata": {},
   "outputs": [
    {
     "data": {
      "text/plain": [
       "20"
      ]
     },
     "execution_count": 103,
     "metadata": {},
     "output_type": "execute_result"
    }
   ],
   "source": [
    "numlist[1]"
   ]
  },
  {
   "cell_type": "code",
   "execution_count": 104,
   "id": "3aa6fb87",
   "metadata": {},
   "outputs": [],
   "source": [
    "numlist[1]=14"
   ]
  },
  {
   "cell_type": "code",
   "execution_count": 105,
   "id": "acd8e949",
   "metadata": {},
   "outputs": [
    {
     "data": {
      "text/plain": [
       "[10, 14, 40, 60]"
      ]
     },
     "execution_count": 105,
     "metadata": {},
     "output_type": "execute_result"
    }
   ],
   "source": [
    "numlist"
   ]
  },
  {
   "cell_type": "markdown",
   "id": "9742b1a2",
   "metadata": {},
   "source": [
    "# Tuples"
   ]
  },
  {
   "cell_type": "code",
   "execution_count": null,
   "id": "9883f44c",
   "metadata": {},
   "outputs": [],
   "source": [
    "tuples"
   ]
  },
  {
   "cell_type": "code",
   "execution_count": 108,
   "id": "5372636f",
   "metadata": {},
   "outputs": [],
   "source": [
    "t1=(10,20,30,40,50)"
   ]
  },
  {
   "cell_type": "code",
   "execution_count": 109,
   "id": "ec172e35",
   "metadata": {},
   "outputs": [
    {
     "data": {
      "text/plain": [
       "(10, 20, 30, 40, 50)"
      ]
     },
     "execution_count": 109,
     "metadata": {},
     "output_type": "execute_result"
    }
   ],
   "source": [
    "t1"
   ]
  },
  {
   "cell_type": "code",
   "execution_count": 110,
   "id": "c17330c6",
   "metadata": {},
   "outputs": [
    {
     "data": {
      "text/plain": [
       "10"
      ]
     },
     "execution_count": 110,
     "metadata": {},
     "output_type": "execute_result"
    }
   ],
   "source": [
    "t1[0]"
   ]
  },
  {
   "cell_type": "code",
   "execution_count": 111,
   "id": "b0ce1403",
   "metadata": {},
   "outputs": [
    {
     "data": {
      "text/plain": [
       "20"
      ]
     },
     "execution_count": 111,
     "metadata": {},
     "output_type": "execute_result"
    }
   ],
   "source": [
    "t1[1]"
   ]
  },
  {
   "cell_type": "code",
   "execution_count": null,
   "id": "151a5243",
   "metadata": {},
   "outputs": [],
   "source": []
  }
 ],
 "metadata": {
  "kernelspec": {
   "display_name": "Python 3 (ipykernel)",
   "language": "python",
   "name": "python3"
  },
  "language_info": {
   "codemirror_mode": {
    "name": "ipython",
    "version": 3
   },
   "file_extension": ".py",
   "mimetype": "text/x-python",
   "name": "python",
   "nbconvert_exporter": "python",
   "pygments_lexer": "ipython3",
   "version": "3.9.12"
  }
 },
 "nbformat": 4,
 "nbformat_minor": 5
}
