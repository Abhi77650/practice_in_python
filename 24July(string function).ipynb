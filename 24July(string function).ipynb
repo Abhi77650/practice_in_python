{
 "cells": [
  {
   "cell_type": "markdown",
   "id": "1a1007ba",
   "metadata": {},
   "source": [
    "String functions"
   ]
  },
  {
   "cell_type": "code",
   "execution_count": 48,
   "id": "02d46105",
   "metadata": {},
   "outputs": [],
   "source": [
    "word='computer'"
   ]
  },
  {
   "cell_type": "code",
   "execution_count": 49,
   "id": "5af92f7b",
   "metadata": {},
   "outputs": [
    {
     "data": {
      "text/plain": [
       "'computer'"
      ]
     },
     "execution_count": 49,
     "metadata": {},
     "output_type": "execute_result"
    }
   ],
   "source": [
    "word"
   ]
  },
  {
   "cell_type": "code",
   "execution_count": 50,
   "id": "d7bd734c",
   "metadata": {},
   "outputs": [
    {
     "data": {
      "text/plain": [
       "'COMPUTER'"
      ]
     },
     "execution_count": 50,
     "metadata": {},
     "output_type": "execute_result"
    }
   ],
   "source": [
    "word.upper()"
   ]
  },
  {
   "cell_type": "code",
   "execution_count": 51,
   "id": "dcd4d53a",
   "metadata": {},
   "outputs": [],
   "source": [
    "word1='MOBILE'"
   ]
  },
  {
   "cell_type": "code",
   "execution_count": 52,
   "id": "3dd9d238",
   "metadata": {},
   "outputs": [
    {
     "data": {
      "text/plain": [
       "'MOBILE'"
      ]
     },
     "execution_count": 52,
     "metadata": {},
     "output_type": "execute_result"
    }
   ],
   "source": [
    "word1"
   ]
  },
  {
   "cell_type": "code",
   "execution_count": 53,
   "id": "e0ab4ccb",
   "metadata": {},
   "outputs": [
    {
     "data": {
      "text/plain": [
       "'mobile'"
      ]
     },
     "execution_count": 53,
     "metadata": {},
     "output_type": "execute_result"
    }
   ],
   "source": [
    "word1.lower()"
   ]
  },
  {
   "cell_type": "code",
   "execution_count": 54,
   "id": "cccc27fe",
   "metadata": {},
   "outputs": [],
   "source": [
    "word2='TeSla'"
   ]
  },
  {
   "cell_type": "code",
   "execution_count": 55,
   "id": "b0b93983",
   "metadata": {},
   "outputs": [
    {
     "data": {
      "text/plain": [
       "'TeSla'"
      ]
     },
     "execution_count": 55,
     "metadata": {},
     "output_type": "execute_result"
    }
   ],
   "source": [
    "word2"
   ]
  },
  {
   "cell_type": "code",
   "execution_count": 56,
   "id": "6779d4f8",
   "metadata": {},
   "outputs": [
    {
     "data": {
      "text/plain": [
       "'tEsLA'"
      ]
     },
     "execution_count": 56,
     "metadata": {},
     "output_type": "execute_result"
    }
   ],
   "source": [
    "word2.swapcase()"
   ]
  },
  {
   "cell_type": "code",
   "execution_count": 57,
   "id": "bd20722f",
   "metadata": {},
   "outputs": [
    {
     "data": {
      "text/plain": [
       "'lenovo'"
      ]
     },
     "execution_count": 57,
     "metadata": {},
     "output_type": "execute_result"
    }
   ],
   "source": [
    "string1='LENOVO'\n",
    "string1.lower()"
   ]
  },
  {
   "cell_type": "code",
   "execution_count": 58,
   "id": "44a18491",
   "metadata": {},
   "outputs": [],
   "source": [
    "a=string1.lower()"
   ]
  },
  {
   "cell_type": "code",
   "execution_count": 59,
   "id": "32a5d99e",
   "metadata": {},
   "outputs": [
    {
     "data": {
      "text/plain": [
       "'lenovo'"
      ]
     },
     "execution_count": 59,
     "metadata": {},
     "output_type": "execute_result"
    }
   ],
   "source": [
    "a"
   ]
  },
  {
   "cell_type": "code",
   "execution_count": 60,
   "id": "241c5a4f",
   "metadata": {},
   "outputs": [],
   "source": [
    "string2='planets'\n",
    "b=string2.upper()"
   ]
  },
  {
   "cell_type": "code",
   "execution_count": 61,
   "id": "8df89f94",
   "metadata": {},
   "outputs": [
    {
     "data": {
      "text/plain": [
       "'PLANETS'"
      ]
     },
     "execution_count": 61,
     "metadata": {},
     "output_type": "execute_result"
    }
   ],
   "source": [
    "b"
   ]
  },
  {
   "cell_type": "code",
   "execution_count": 62,
   "id": "093bc82d",
   "metadata": {},
   "outputs": [
    {
     "data": {
      "text/plain": [
       "'mAtRiX'"
      ]
     },
     "execution_count": 62,
     "metadata": {},
     "output_type": "execute_result"
    }
   ],
   "source": [
    "string3='mAtRiX'\n",
    "string3"
   ]
  },
  {
   "cell_type": "code",
   "execution_count": 63,
   "id": "0aeeb2fa",
   "metadata": {},
   "outputs": [
    {
     "data": {
      "text/plain": [
       "'MaTrIx'"
      ]
     },
     "execution_count": 63,
     "metadata": {},
     "output_type": "execute_result"
    }
   ],
   "source": [
    "string3.swapcase()"
   ]
  },
  {
   "cell_type": "code",
   "execution_count": 64,
   "id": "aac59a52",
   "metadata": {},
   "outputs": [],
   "source": [
    "c=string3.swapcase()"
   ]
  },
  {
   "cell_type": "code",
   "execution_count": 65,
   "id": "d5d628ea",
   "metadata": {},
   "outputs": [
    {
     "data": {
      "text/plain": [
       "'MaTrIx'"
      ]
     },
     "execution_count": 65,
     "metadata": {},
     "output_type": "execute_result"
    }
   ],
   "source": [
    "c"
   ]
  },
  {
   "cell_type": "code",
   "execution_count": 66,
   "id": "fba44b31",
   "metadata": {},
   "outputs": [],
   "source": [
    "string4='mars'"
   ]
  },
  {
   "cell_type": "code",
   "execution_count": 67,
   "id": "435753aa",
   "metadata": {},
   "outputs": [
    {
     "data": {
      "text/plain": [
       "'mars'"
      ]
     },
     "execution_count": 67,
     "metadata": {},
     "output_type": "execute_result"
    }
   ],
   "source": [
    "string4"
   ]
  },
  {
   "cell_type": "code",
   "execution_count": 68,
   "id": "78552a73",
   "metadata": {},
   "outputs": [
    {
     "data": {
      "text/plain": [
       "'Mars'"
      ]
     },
     "execution_count": 68,
     "metadata": {},
     "output_type": "execute_result"
    }
   ],
   "source": [
    "string4.capitalize()"
   ]
  },
  {
   "cell_type": "code",
   "execution_count": 69,
   "id": "8b6408f5",
   "metadata": {},
   "outputs": [],
   "source": [
    "string5='data science'"
   ]
  },
  {
   "cell_type": "code",
   "execution_count": 70,
   "id": "72d4b497",
   "metadata": {},
   "outputs": [
    {
     "data": {
      "text/plain": [
       "'data science'"
      ]
     },
     "execution_count": 70,
     "metadata": {},
     "output_type": "execute_result"
    }
   ],
   "source": [
    "string5"
   ]
  },
  {
   "cell_type": "code",
   "execution_count": 71,
   "id": "78135d3d",
   "metadata": {},
   "outputs": [
    {
     "data": {
      "text/plain": [
       "'Data Science'"
      ]
     },
     "execution_count": 71,
     "metadata": {},
     "output_type": "execute_result"
    }
   ],
   "source": [
    "string5.title()"
   ]
  },
  {
   "cell_type": "code",
   "execution_count": 72,
   "id": "09be32ce",
   "metadata": {},
   "outputs": [],
   "source": [
    "string6='there are many galaxies in universe'"
   ]
  },
  {
   "cell_type": "code",
   "execution_count": 73,
   "id": "666c43e2",
   "metadata": {},
   "outputs": [
    {
     "data": {
      "text/plain": [
       "'there are many galaxies in universe'"
      ]
     },
     "execution_count": 73,
     "metadata": {},
     "output_type": "execute_result"
    }
   ],
   "source": [
    "string6"
   ]
  },
  {
   "cell_type": "code",
   "execution_count": 74,
   "id": "b0ee8b21",
   "metadata": {},
   "outputs": [
    {
     "data": {
      "text/plain": [
       "'There Are Many Galaxies In Universe'"
      ]
     },
     "execution_count": 74,
     "metadata": {},
     "output_type": "execute_result"
    }
   ],
   "source": [
    "string6.title()"
   ]
  },
  {
   "cell_type": "code",
   "execution_count": 75,
   "id": "18205b95",
   "metadata": {},
   "outputs": [],
   "source": [
    "word4='mars rovers'"
   ]
  },
  {
   "cell_type": "code",
   "execution_count": 76,
   "id": "437a22b8",
   "metadata": {},
   "outputs": [
    {
     "data": {
      "text/plain": [
       "'mars rovers'"
      ]
     },
     "execution_count": 76,
     "metadata": {},
     "output_type": "execute_result"
    }
   ],
   "source": [
    "word4"
   ]
  },
  {
   "cell_type": "code",
   "execution_count": 77,
   "id": "dd30fced",
   "metadata": {},
   "outputs": [
    {
     "data": {
      "text/plain": [
       "'Mars rovers'"
      ]
     },
     "execution_count": 77,
     "metadata": {},
     "output_type": "execute_result"
    }
   ],
   "source": [
    "word4.capitalize()"
   ]
  },
  {
   "cell_type": "code",
   "execution_count": 78,
   "id": "79412073",
   "metadata": {},
   "outputs": [
    {
     "data": {
      "text/plain": [
       "'Mars Rovers'"
      ]
     },
     "execution_count": 78,
     "metadata": {},
     "output_type": "execute_result"
    }
   ],
   "source": [
    "word4.title()"
   ]
  },
  {
   "cell_type": "code",
   "execution_count": 79,
   "id": "2a1ad9c4",
   "metadata": {},
   "outputs": [
    {
     "data": {
      "text/plain": [
       "'elon musk is a ceo of tesla'"
      ]
     },
     "execution_count": 79,
     "metadata": {},
     "output_type": "execute_result"
    }
   ],
   "source": [
    "word5='elon musk is a ceo of tesla'\n",
    "word5"
   ]
  },
  {
   "cell_type": "code",
   "execution_count": 80,
   "id": "f5a2f46e",
   "metadata": {},
   "outputs": [
    {
     "data": {
      "text/plain": [
       "'Elon musk is a ceo of tesla'"
      ]
     },
     "execution_count": 80,
     "metadata": {},
     "output_type": "execute_result"
    }
   ],
   "source": [
    "word5.capitalize()"
   ]
  },
  {
   "cell_type": "code",
   "execution_count": 81,
   "id": "88619216",
   "metadata": {
    "scrolled": true
   },
   "outputs": [
    {
     "data": {
      "text/plain": [
       "'Elon Musk Is A Ceo Of Tesla'"
      ]
     },
     "execution_count": 81,
     "metadata": {},
     "output_type": "execute_result"
    }
   ],
   "source": [
    "word5.title()"
   ]
  },
  {
   "cell_type": "code",
   "execution_count": 82,
   "id": "cce5fa2d",
   "metadata": {},
   "outputs": [
    {
     "data": {
      "text/plain": [
       "'there are many galaxies in universe'"
      ]
     },
     "execution_count": 82,
     "metadata": {},
     "output_type": "execute_result"
    }
   ],
   "source": [
    "string6"
   ]
  },
  {
   "cell_type": "code",
   "execution_count": 83,
   "id": "d1d172d2",
   "metadata": {},
   "outputs": [
    {
     "data": {
      "text/plain": [
       "['there', 'are', 'many', 'galaxies', 'in', 'universe']"
      ]
     },
     "execution_count": 83,
     "metadata": {},
     "output_type": "execute_result"
    }
   ],
   "source": [
    "string6.split()"
   ]
  },
  {
   "cell_type": "code",
   "execution_count": 84,
   "id": "8edfea3a",
   "metadata": {},
   "outputs": [
    {
     "data": {
      "text/plain": [
       "'computer'"
      ]
     },
     "execution_count": 84,
     "metadata": {},
     "output_type": "execute_result"
    }
   ],
   "source": [
    "word"
   ]
  },
  {
   "cell_type": "code",
   "execution_count": 85,
   "id": "29d37083",
   "metadata": {},
   "outputs": [
    {
     "data": {
      "text/plain": [
       "False"
      ]
     },
     "execution_count": 85,
     "metadata": {},
     "output_type": "execute_result"
    }
   ],
   "source": [
    "word.isupper()"
   ]
  },
  {
   "cell_type": "code",
   "execution_count": 86,
   "id": "8db552a3",
   "metadata": {},
   "outputs": [
    {
     "data": {
      "text/plain": [
       "True"
      ]
     },
     "execution_count": 86,
     "metadata": {},
     "output_type": "execute_result"
    }
   ],
   "source": [
    "word.islower()"
   ]
  },
  {
   "cell_type": "code",
   "execution_count": 87,
   "id": "8add6d5f",
   "metadata": {},
   "outputs": [
    {
     "data": {
      "text/plain": [
       "'there are many galaxies in universe'"
      ]
     },
     "execution_count": 87,
     "metadata": {},
     "output_type": "execute_result"
    }
   ],
   "source": [
    "string6"
   ]
  },
  {
   "cell_type": "code",
   "execution_count": 88,
   "id": "4d9aef9d",
   "metadata": {},
   "outputs": [
    {
     "data": {
      "text/plain": [
       "True"
      ]
     },
     "execution_count": 88,
     "metadata": {},
     "output_type": "execute_result"
    }
   ],
   "source": [
    "string6.startswith('there')"
   ]
  },
  {
   "cell_type": "code",
   "execution_count": 89,
   "id": "613ad8f4",
   "metadata": {},
   "outputs": [
    {
     "data": {
      "text/plain": [
       "False"
      ]
     },
     "execution_count": 89,
     "metadata": {},
     "output_type": "execute_result"
    }
   ],
   "source": [
    "string6.startswith('many')"
   ]
  },
  {
   "cell_type": "code",
   "execution_count": 90,
   "id": "dc5cd6a7",
   "metadata": {},
   "outputs": [
    {
     "data": {
      "text/plain": [
       "True"
      ]
     },
     "execution_count": 90,
     "metadata": {},
     "output_type": "execute_result"
    }
   ],
   "source": [
    "string6.endswith('universe')"
   ]
  },
  {
   "cell_type": "code",
   "execution_count": 91,
   "id": "d0dda816",
   "metadata": {},
   "outputs": [
    {
     "data": {
      "text/plain": [
       "'elon musk is a ceo of tesla'"
      ]
     },
     "execution_count": 91,
     "metadata": {},
     "output_type": "execute_result"
    }
   ],
   "source": [
    "word5"
   ]
  },
  {
   "cell_type": "code",
   "execution_count": 92,
   "id": "09ea6601",
   "metadata": {},
   "outputs": [
    {
     "data": {
      "text/plain": [
       "5"
      ]
     },
     "execution_count": 92,
     "metadata": {},
     "output_type": "execute_result"
    }
   ],
   "source": [
    "word5.find('musk')"
   ]
  },
  {
   "cell_type": "code",
   "execution_count": 93,
   "id": "97493287",
   "metadata": {},
   "outputs": [
    {
     "data": {
      "text/plain": [
       "22"
      ]
     },
     "execution_count": 93,
     "metadata": {},
     "output_type": "execute_result"
    }
   ],
   "source": [
    "word5.find('tesla')"
   ]
  },
  {
   "cell_type": "code",
   "execution_count": 94,
   "id": "849d732b",
   "metadata": {},
   "outputs": [
    {
     "data": {
      "text/plain": [
       "15"
      ]
     },
     "execution_count": 94,
     "metadata": {},
     "output_type": "execute_result"
    }
   ],
   "source": [
    "word5.find('ceo')"
   ]
  },
  {
   "cell_type": "code",
   "execution_count": 95,
   "id": "055971ec",
   "metadata": {},
   "outputs": [
    {
     "data": {
      "text/plain": [
       "10"
      ]
     },
     "execution_count": 95,
     "metadata": {},
     "output_type": "execute_result"
    }
   ],
   "source": [
    "word5.find('is',6,20)"
   ]
  },
  {
   "cell_type": "code",
   "execution_count": 96,
   "id": "fbd76b44",
   "metadata": {},
   "outputs": [
    {
     "data": {
      "text/plain": [
       "19"
      ]
     },
     "execution_count": 96,
     "metadata": {},
     "output_type": "execute_result"
    }
   ],
   "source": [
    "word5.find('of')"
   ]
  },
  {
   "cell_type": "code",
   "execution_count": 99,
   "id": "6d55f6b3",
   "metadata": {},
   "outputs": [],
   "source": [
    "text=('Nasa is building holtel project in mars')"
   ]
  },
  {
   "cell_type": "code",
   "execution_count": 100,
   "id": "fe26991e",
   "metadata": {},
   "outputs": [
    {
     "data": {
      "text/plain": [
       "'Nasa is building holtel project in mars'"
      ]
     },
     "execution_count": 100,
     "metadata": {},
     "output_type": "execute_result"
    }
   ],
   "source": [
    "text"
   ]
  },
  {
   "cell_type": "code",
   "execution_count": null,
   "id": "7ce6bcbc",
   "metadata": {},
   "outputs": [],
   "source": []
  }
 ],
 "metadata": {
  "kernelspec": {
   "display_name": "Python 3 (ipykernel)",
   "language": "python",
   "name": "python3"
  },
  "language_info": {
   "codemirror_mode": {
    "name": "ipython",
    "version": 3
   },
   "file_extension": ".py",
   "mimetype": "text/x-python",
   "name": "python",
   "nbconvert_exporter": "python",
   "pygments_lexer": "ipython3",
   "version": "3.9.12"
  }
 },
 "nbformat": 4,
 "nbformat_minor": 5
}
