{
 "cells": [
  {
   "cell_type": "markdown",
   "id": "e26ca878",
   "metadata": {},
   "source": [
    "user defined function"
   ]
  },
  {
   "cell_type": "code",
   "execution_count": 7,
   "id": "c9cce39b",
   "metadata": {},
   "outputs": [],
   "source": [
    "def squareroot_func():\n",
    "    x=25\n",
    "    y=x**(1/2)\n",
    "    print(\"The square root of x= \",x,\"is\",y)"
   ]
  },
  {
   "cell_type": "code",
   "execution_count": 8,
   "id": "a9534fa0",
   "metadata": {},
   "outputs": [
    {
     "name": "stdout",
     "output_type": "stream",
     "text": [
      "The square root of x=  25 is 5.0\n"
     ]
    }
   ],
   "source": [
    "squareroot_func()"
   ]
  },
  {
   "cell_type": "code",
   "execution_count": 9,
   "id": "ad22e446",
   "metadata": {},
   "outputs": [],
   "source": [
    "def squareroot_func():\n",
    "    x=int(input(\"Enter any number\"))\n",
    "    y=x**(1/2)\n",
    "    print(\"The square root of x= \",x,\"is\",y)"
   ]
  },
  {
   "cell_type": "code",
   "execution_count": 10,
   "id": "965c60a3",
   "metadata": {},
   "outputs": [
    {
     "name": "stdout",
     "output_type": "stream",
     "text": [
      "Enter any number49\n",
      "The square root of x=  49 is 7.0\n"
     ]
    }
   ],
   "source": [
    "squareroot_func()"
   ]
  },
  {
   "cell_type": "code",
   "execution_count": 14,
   "id": "a0923c28",
   "metadata": {},
   "outputs": [],
   "source": [
    "def area_of_circle():\n",
    "    pi=3.14\n",
    "    radius=10\n",
    "    area=pi*(radius**2)\n",
    "    print(\"The area of circle =\",area)"
   ]
  },
  {
   "cell_type": "code",
   "execution_count": 15,
   "id": "f55bc652",
   "metadata": {},
   "outputs": [
    {
     "name": "stdout",
     "output_type": "stream",
     "text": [
      "The area of circle = 314.0\n"
     ]
    }
   ],
   "source": [
    "area_of_circle()"
   ]
  },
  {
   "cell_type": "code",
   "execution_count": 16,
   "id": "dc745784",
   "metadata": {},
   "outputs": [],
   "source": [
    "def area_of_circle():\n",
    "    pi=3.14\n",
    "    radius=int(input(\"Enter the radius\"))\n",
    "    area=pi*(radius**2)\n",
    "    print(\"The area of circle=\",area)\n",
    "    print(\"The area of circle=\",round(area,2))"
   ]
  },
  {
   "cell_type": "code",
   "execution_count": 27,
   "id": "bc242ef3",
   "metadata": {},
   "outputs": [
    {
     "name": "stdout",
     "output_type": "stream",
     "text": [
      "Enter the radius54\n",
      "The area of circle= 9156.24\n",
      "The area of circle= 9156.24\n"
     ]
    }
   ],
   "source": [
    "area_of_circle()"
   ]
  },
  {
   "cell_type": "code",
   "execution_count": 28,
   "id": "ff51a826",
   "metadata": {},
   "outputs": [],
   "source": [
    "def sq():\n",
    "    x=int(input(\"Enter any number\"))\n",
    "    square_root=x**(1/2)\n",
    "    print(\"the square root of x= \",x,\"is\",square_root)\n",
    "    square=x**2\n",
    "    print(\"The square of x=\",x,\"is\",square)"
   ]
  },
  {
   "cell_type": "code",
   "execution_count": 29,
   "id": "04d16386",
   "metadata": {},
   "outputs": [
    {
     "name": "stdout",
     "output_type": "stream",
     "text": [
      "Enter any number78\n",
      "the square root of x=  78 is 8.831760866327848\n",
      "The square of x= 78 is 6084\n"
     ]
    }
   ],
   "source": [
    "sq()"
   ]
  },
  {
   "cell_type": "code",
   "execution_count": 30,
   "id": "ab5df316",
   "metadata": {},
   "outputs": [],
   "source": [
    "g=7877.564389233\n"
   ]
  },
  {
   "cell_type": "code",
   "execution_count": 31,
   "id": "c704e897",
   "metadata": {},
   "outputs": [
    {
     "data": {
      "text/plain": [
       "7877.56439"
      ]
     },
     "execution_count": 31,
     "metadata": {},
     "output_type": "execute_result"
    }
   ],
   "source": [
    "round(g,5)"
   ]
  },
  {
   "cell_type": "code",
   "execution_count": 32,
   "id": "9fe352a1",
   "metadata": {},
   "outputs": [],
   "source": [
    "g=7877.500000000"
   ]
  },
  {
   "cell_type": "code",
   "execution_count": 33,
   "id": "5618fecc",
   "metadata": {},
   "outputs": [
    {
     "data": {
      "text/plain": [
       "7877.5"
      ]
     },
     "execution_count": 33,
     "metadata": {},
     "output_type": "execute_result"
    }
   ],
   "source": [
    "round(g,5)"
   ]
  },
  {
   "cell_type": "code",
   "execution_count": 34,
   "id": "91eb5be9",
   "metadata": {},
   "outputs": [],
   "source": [
    "def area_rect():\n",
    "    l=float(input(\"Enter length\"))\n",
    "    b=float(input(\"Enter breadth\"))\n",
    "    area=l*b\n",
    "    print(area)\n",
    "    print(\"area=\",round(area,2))"
   ]
  },
  {
   "cell_type": "code",
   "execution_count": 35,
   "id": "8d7b3038",
   "metadata": {},
   "outputs": [
    {
     "name": "stdout",
     "output_type": "stream",
     "text": [
      "Enter length34\n",
      "Enter breadth45\n",
      "1530.0\n",
      "area= 1530.0\n"
     ]
    }
   ],
   "source": [
    "area_rect()"
   ]
  },
  {
   "cell_type": "code",
   "execution_count": 38,
   "id": "36756b57",
   "metadata": {},
   "outputs": [],
   "source": [
    "def area_rect():\n",
    "    l=int(input(\"Enter length\"))\n",
    "    b=int(input(\"Enter breadth\"))\n",
    "    area=l*b\n",
    "    print(area)\n",
    "    print(\"area=\",round(area,2))"
   ]
  },
  {
   "cell_type": "code",
   "execution_count": 40,
   "id": "f85008b2",
   "metadata": {},
   "outputs": [
    {
     "name": "stdout",
     "output_type": "stream",
     "text": [
      "Enter length34\n",
      "Enter breadth43\n",
      "1462\n",
      "area= 1462\n"
     ]
    }
   ],
   "source": [
    "area_rect()"
   ]
  },
  {
   "cell_type": "code",
   "execution_count": null,
   "id": "61307766",
   "metadata": {},
   "outputs": [],
   "source": []
  }
 ],
 "metadata": {
  "kernelspec": {
   "display_name": "Python 3 (ipykernel)",
   "language": "python",
   "name": "python3"
  },
  "language_info": {
   "codemirror_mode": {
    "name": "ipython",
    "version": 3
   },
   "file_extension": ".py",
   "mimetype": "text/x-python",
   "name": "python",
   "nbconvert_exporter": "python",
   "pygments_lexer": "ipython3",
   "version": "3.9.12"
  }
 },
 "nbformat": 4,
 "nbformat_minor": 5
}
