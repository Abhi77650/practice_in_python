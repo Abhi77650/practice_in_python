{
 "cells": [
  {
   "cell_type": "markdown",
   "id": "ab21207c",
   "metadata": {},
   "source": [
    "# pickle in python: object serialization"
   ]
  },
  {
   "cell_type": "code",
   "execution_count": 1,
   "id": "42625632",
   "metadata": {},
   "outputs": [],
   "source": [
    "import pickle"
   ]
  },
  {
   "cell_type": "code",
   "execution_count": 2,
   "id": "e214504c",
   "metadata": {},
   "outputs": [],
   "source": [
    "flower_dict = {1:'Rose',2:'Lily',3:'Lotus',4:'tulip'}"
   ]
  },
  {
   "cell_type": "code",
   "execution_count": 3,
   "id": "861574c0",
   "metadata": {},
   "outputs": [],
   "source": [
    "filename ='flower'\n",
    "outfile = open(filename,'wb')"
   ]
  },
  {
   "cell_type": "code",
   "execution_count": 4,
   "id": "dee7446b",
   "metadata": {},
   "outputs": [],
   "source": [
    "outfile = open('flower.obj','wb')"
   ]
  },
  {
   "cell_type": "code",
   "execution_count": 5,
   "id": "40f489cc",
   "metadata": {},
   "outputs": [],
   "source": [
    "pickle.dump(flower_dict,outfile)\n",
    "outfile.close()"
   ]
  },
  {
   "cell_type": "code",
   "execution_count": 6,
   "id": "0099beec",
   "metadata": {},
   "outputs": [],
   "source": [
    "infile=open(filename,'rb')"
   ]
  },
  {
   "cell_type": "code",
   "execution_count": 7,
   "id": "47d0485f",
   "metadata": {},
   "outputs": [],
   "source": [
    "infile=open('flower.obj','rb')"
   ]
  },
  {
   "cell_type": "code",
   "execution_count": null,
   "id": "06be8e19",
   "metadata": {},
   "outputs": [],
   "source": []
  }
 ],
 "metadata": {
  "kernelspec": {
   "display_name": "Python 3 (ipykernel)",
   "language": "python",
   "name": "python3"
  },
  "language_info": {
   "codemirror_mode": {
    "name": "ipython",
    "version": 3
   },
   "file_extension": ".py",
   "mimetype": "text/x-python",
   "name": "python",
   "nbconvert_exporter": "python",
   "pygments_lexer": "ipython3",
   "version": "3.9.12"
  }
 },
 "nbformat": 4,
 "nbformat_minor": 5
}
