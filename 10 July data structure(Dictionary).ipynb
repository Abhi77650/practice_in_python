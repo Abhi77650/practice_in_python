{
 "cells": [
  {
   "cell_type": "markdown",
   "id": "5e1f1c3a",
   "metadata": {},
   "source": [
    "Dictionary--Key-value Pair"
   ]
  },
  {
   "cell_type": "markdown",
   "id": "974c8083",
   "metadata": {},
   "source": [
    "d1={key2:value2,key2:value2,key3:value3}"
   ]
  },
  {
   "cell_type": "code",
   "execution_count": 5,
   "id": "c74462a0",
   "metadata": {},
   "outputs": [],
   "source": [
    "d1={'id':1,'Name':'Andrew','age':14}"
   ]
  },
  {
   "cell_type": "code",
   "execution_count": 6,
   "id": "f3c25479",
   "metadata": {},
   "outputs": [
    {
     "data": {
      "text/plain": [
       "{'id': 1, 'Name': 'Andrew', 'age': 14}"
      ]
     },
     "execution_count": 6,
     "metadata": {},
     "output_type": "execute_result"
    }
   ],
   "source": [
    "d1"
   ]
  },
  {
   "cell_type": "code",
   "execution_count": 7,
   "id": "7c0fad5b",
   "metadata": {},
   "outputs": [
    {
     "data": {
      "text/plain": [
       "dict_keys(['id', 'Name', 'age'])"
      ]
     },
     "execution_count": 7,
     "metadata": {},
     "output_type": "execute_result"
    }
   ],
   "source": [
    "d1.keys()"
   ]
  },
  {
   "cell_type": "code",
   "execution_count": 8,
   "id": "11ba6bbe",
   "metadata": {},
   "outputs": [
    {
     "data": {
      "text/plain": [
       "dict_values([1, 'Andrew', 14])"
      ]
     },
     "execution_count": 8,
     "metadata": {},
     "output_type": "execute_result"
    }
   ],
   "source": [
    "d1.values()"
   ]
  },
  {
   "cell_type": "code",
   "execution_count": 9,
   "id": "13930dac",
   "metadata": {},
   "outputs": [
    {
     "data": {
      "text/plain": [
       "dict_items([('id', 1), ('Name', 'Andrew'), ('age', 14)])"
      ]
     },
     "execution_count": 9,
     "metadata": {},
     "output_type": "execute_result"
    }
   ],
   "source": [
    "d1.items()"
   ]
  },
  {
   "cell_type": "code",
   "execution_count": 10,
   "id": "c4599254",
   "metadata": {},
   "outputs": [
    {
     "data": {
      "text/plain": [
       "1"
      ]
     },
     "execution_count": 10,
     "metadata": {},
     "output_type": "execute_result"
    }
   ],
   "source": [
    "d1['id']"
   ]
  },
  {
   "cell_type": "code",
   "execution_count": 11,
   "id": "5887cc5d",
   "metadata": {},
   "outputs": [
    {
     "data": {
      "text/plain": [
       "'Andrew'"
      ]
     },
     "execution_count": 11,
     "metadata": {},
     "output_type": "execute_result"
    }
   ],
   "source": [
    "d1['Name']"
   ]
  },
  {
   "cell_type": "code",
   "execution_count": 12,
   "id": "287e79c4",
   "metadata": {},
   "outputs": [
    {
     "data": {
      "text/plain": [
       "14"
      ]
     },
     "execution_count": 12,
     "metadata": {},
     "output_type": "execute_result"
    }
   ],
   "source": [
    "d1['age']"
   ]
  },
  {
   "cell_type": "code",
   "execution_count": 13,
   "id": "671dfb6e",
   "metadata": {},
   "outputs": [
    {
     "name": "stdout",
     "output_type": "stream",
     "text": [
      "The id is 1\n"
     ]
    }
   ],
   "source": [
    "print('The id is',d1['id'])"
   ]
  },
  {
   "cell_type": "code",
   "execution_count": 15,
   "id": "e42499dd",
   "metadata": {},
   "outputs": [
    {
     "name": "stdout",
     "output_type": "stream",
     "text": [
      "The Name is Andrew\n"
     ]
    }
   ],
   "source": [
    "print('The Name is',d1['Name'])"
   ]
  },
  {
   "cell_type": "code",
   "execution_count": 16,
   "id": "9c042651",
   "metadata": {},
   "outputs": [
    {
     "name": "stdout",
     "output_type": "stream",
     "text": [
      "The age is 14\n"
     ]
    }
   ],
   "source": [
    "print('The age is',d1['age'])"
   ]
  },
  {
   "cell_type": "code",
   "execution_count": 17,
   "id": "c492b8fa",
   "metadata": {},
   "outputs": [
    {
     "data": {
      "text/plain": [
       "14"
      ]
     },
     "execution_count": 17,
     "metadata": {},
     "output_type": "execute_result"
    }
   ],
   "source": [
    "d1['age']"
   ]
  },
  {
   "cell_type": "code",
   "execution_count": 18,
   "id": "4a6030eb",
   "metadata": {},
   "outputs": [],
   "source": [
    "d1['age']=24"
   ]
  },
  {
   "cell_type": "code",
   "execution_count": 19,
   "id": "ca58b6f9",
   "metadata": {},
   "outputs": [
    {
     "data": {
      "text/plain": [
       "{'id': 1, 'Name': 'Andrew', 'age': 24}"
      ]
     },
     "execution_count": 19,
     "metadata": {},
     "output_type": "execute_result"
    }
   ],
   "source": [
    "d1"
   ]
  },
  {
   "cell_type": "code",
   "execution_count": 20,
   "id": "269ecfd3",
   "metadata": {},
   "outputs": [
    {
     "data": {
      "text/plain": [
       "'Andrew'"
      ]
     },
     "execution_count": 20,
     "metadata": {},
     "output_type": "execute_result"
    }
   ],
   "source": [
    "d1['Name']"
   ]
  },
  {
   "cell_type": "code",
   "execution_count": 21,
   "id": "96d1a159",
   "metadata": {},
   "outputs": [],
   "source": [
    "d1['Name']='jack'"
   ]
  },
  {
   "cell_type": "code",
   "execution_count": 22,
   "id": "d234af36",
   "metadata": {},
   "outputs": [
    {
     "data": {
      "text/plain": [
       "{'id': 1, 'Name': 'jack', 'age': 24}"
      ]
     },
     "execution_count": 22,
     "metadata": {},
     "output_type": "execute_result"
    }
   ],
   "source": [
    "d1"
   ]
  },
  {
   "cell_type": "code",
   "execution_count": 23,
   "id": "af258f11",
   "metadata": {},
   "outputs": [],
   "source": [
    "d1.update({'fees':5000})"
   ]
  },
  {
   "cell_type": "code",
   "execution_count": 24,
   "id": "a873cf94",
   "metadata": {},
   "outputs": [
    {
     "data": {
      "text/plain": [
       "{'id': 1, 'Name': 'jack', 'age': 24, 'fees': 5000}"
      ]
     },
     "execution_count": 24,
     "metadata": {},
     "output_type": "execute_result"
    }
   ],
   "source": [
    "d1"
   ]
  },
  {
   "cell_type": "code",
   "execution_count": 27,
   "id": "e549d508",
   "metadata": {},
   "outputs": [],
   "source": [
    "d1['fees']=9000"
   ]
  },
  {
   "cell_type": "code",
   "execution_count": 28,
   "id": "42df5b5c",
   "metadata": {},
   "outputs": [
    {
     "data": {
      "text/plain": [
       "{'id': 1, 'Name': 'jack', 'age': 24, 'fees': 9000}"
      ]
     },
     "execution_count": 28,
     "metadata": {},
     "output_type": "execute_result"
    }
   ],
   "source": [
    "d1"
   ]
  },
  {
   "cell_type": "code",
   "execution_count": 29,
   "id": "5e194ad8",
   "metadata": {},
   "outputs": [],
   "source": [
    "del d1['Name']"
   ]
  },
  {
   "cell_type": "code",
   "execution_count": 30,
   "id": "df510aef",
   "metadata": {},
   "outputs": [
    {
     "data": {
      "text/plain": [
       "{'id': 1, 'age': 24, 'fees': 9000}"
      ]
     },
     "execution_count": 30,
     "metadata": {},
     "output_type": "execute_result"
    }
   ],
   "source": [
    "d1\n"
   ]
  },
  {
   "cell_type": "code",
   "execution_count": 31,
   "id": "cc6f4b3e",
   "metadata": {},
   "outputs": [],
   "source": [
    "d1.clear()"
   ]
  },
  {
   "cell_type": "code",
   "execution_count": 32,
   "id": "5065523f",
   "metadata": {},
   "outputs": [
    {
     "data": {
      "text/plain": [
       "{}"
      ]
     },
     "execution_count": 32,
     "metadata": {},
     "output_type": "execute_result"
    }
   ],
   "source": [
    "d1"
   ]
  },
  {
   "cell_type": "code",
   "execution_count": 33,
   "id": "d10ff65f",
   "metadata": {},
   "outputs": [],
   "source": [
    "d1.update({'Roll no':101})"
   ]
  },
  {
   "cell_type": "code",
   "execution_count": 34,
   "id": "53e4199d",
   "metadata": {},
   "outputs": [
    {
     "data": {
      "text/plain": [
       "{'Roll no': 101}"
      ]
     },
     "execution_count": 34,
     "metadata": {},
     "output_type": "execute_result"
    }
   ],
   "source": [
    "d1"
   ]
  },
  {
   "cell_type": "code",
   "execution_count": 35,
   "id": "9dee9789",
   "metadata": {},
   "outputs": [],
   "source": [
    "d2={'apple':'Red','mango':'Yellow','Tree':'Green'}"
   ]
  },
  {
   "cell_type": "code",
   "execution_count": 36,
   "id": "5d21e9f7",
   "metadata": {},
   "outputs": [
    {
     "data": {
      "text/plain": [
       "{'apple': 'Red', 'mango': 'Yellow', 'Tree': 'Green'}"
      ]
     },
     "execution_count": 36,
     "metadata": {},
     "output_type": "execute_result"
    }
   ],
   "source": [
    "d2"
   ]
  },
  {
   "cell_type": "code",
   "execution_count": 40,
   "id": "d78f2d10",
   "metadata": {},
   "outputs": [],
   "source": [
    "d3={1:['Red','Yellow','Green'],2:['Apple','Mango','Grapes'],3:['Rose','Sunflower','Lily']}"
   ]
  },
  {
   "cell_type": "code",
   "execution_count": 41,
   "id": "cd1221d1",
   "metadata": {},
   "outputs": [
    {
     "data": {
      "text/plain": [
       "{1: ['Red', 'Yellow', 'Green'],\n",
       " 2: ['Apple', 'Mango', 'Grapes'],\n",
       " 3: ['Rose', 'Sunflower', 'Lily']}"
      ]
     },
     "execution_count": 41,
     "metadata": {},
     "output_type": "execute_result"
    }
   ],
   "source": [
    "d3"
   ]
  },
  {
   "cell_type": "code",
   "execution_count": 42,
   "id": "3fcafcdb",
   "metadata": {},
   "outputs": [
    {
     "data": {
      "text/plain": [
       "['Red', 'Yellow', 'Green']"
      ]
     },
     "execution_count": 42,
     "metadata": {},
     "output_type": "execute_result"
    }
   ],
   "source": [
    "d3[1]"
   ]
  },
  {
   "cell_type": "code",
   "execution_count": 43,
   "id": "90fab3ee",
   "metadata": {},
   "outputs": [
    {
     "data": {
      "text/plain": [
       "'Red'"
      ]
     },
     "execution_count": 43,
     "metadata": {},
     "output_type": "execute_result"
    }
   ],
   "source": [
    "d3[1][0]"
   ]
  },
  {
   "cell_type": "code",
   "execution_count": 44,
   "id": "895d1f78",
   "metadata": {},
   "outputs": [
    {
     "data": {
      "text/plain": [
       "'Yellow'"
      ]
     },
     "execution_count": 44,
     "metadata": {},
     "output_type": "execute_result"
    }
   ],
   "source": [
    "d3[1][1]"
   ]
  },
  {
   "cell_type": "code",
   "execution_count": 45,
   "id": "33edb2c9",
   "metadata": {},
   "outputs": [
    {
     "data": {
      "text/plain": [
       "'Green'"
      ]
     },
     "execution_count": 45,
     "metadata": {},
     "output_type": "execute_result"
    }
   ],
   "source": [
    "d3[1][2]"
   ]
  },
  {
   "cell_type": "code",
   "execution_count": 46,
   "id": "d93c0bde",
   "metadata": {},
   "outputs": [
    {
     "data": {
      "text/plain": [
       "'Apple'"
      ]
     },
     "execution_count": 46,
     "metadata": {},
     "output_type": "execute_result"
    }
   ],
   "source": [
    "d3[2][0]"
   ]
  },
  {
   "cell_type": "code",
   "execution_count": 47,
   "id": "5bd91691",
   "metadata": {},
   "outputs": [
    {
     "data": {
      "text/plain": [
       "'Mango'"
      ]
     },
     "execution_count": 47,
     "metadata": {},
     "output_type": "execute_result"
    }
   ],
   "source": [
    "d3[2][1]"
   ]
  },
  {
   "cell_type": "code",
   "execution_count": 48,
   "id": "4a22d192",
   "metadata": {},
   "outputs": [
    {
     "data": {
      "text/plain": [
       "'Grapes'"
      ]
     },
     "execution_count": 48,
     "metadata": {},
     "output_type": "execute_result"
    }
   ],
   "source": [
    "d3[2][2]"
   ]
  },
  {
   "cell_type": "code",
   "execution_count": null,
   "id": "476e1149",
   "metadata": {},
   "outputs": [],
   "source": []
  }
 ],
 "metadata": {
  "kernelspec": {
   "display_name": "Python 3 (ipykernel)",
   "language": "python",
   "name": "python3"
  },
  "language_info": {
   "codemirror_mode": {
    "name": "ipython",
    "version": 3
   },
   "file_extension": ".py",
   "mimetype": "text/x-python",
   "name": "python",
   "nbconvert_exporter": "python",
   "pygments_lexer": "ipython3",
   "version": "3.9.12"
  }
 },
 "nbformat": 4,
 "nbformat_minor": 5
}
