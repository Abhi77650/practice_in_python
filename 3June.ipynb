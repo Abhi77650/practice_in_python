{
 "cells": [
  {
   "cell_type": "markdown",
   "id": "070aad25",
   "metadata": {},
   "source": [
    "# Welcome to python world"
   ]
  },
  {
   "cell_type": "markdown",
   "id": "8f8cf77f",
   "metadata": {},
   "source": [
    "learning python basics"
   ]
  },
  {
   "cell_type": "markdown",
   "id": "a298b4e5",
   "metadata": {},
   "source": [
    "# Data Structures"
   ]
  },
  {
   "cell_type": "markdown",
   "id": "22f5bd38",
   "metadata": {},
   "source": [
    "List"
   ]
  },
  {
   "cell_type": "code",
   "execution_count": 17,
   "id": "4853172f",
   "metadata": {},
   "outputs": [],
   "source": [
    "list1=[]"
   ]
  },
  {
   "cell_type": "code",
   "execution_count": 5,
   "id": "cbb642bb",
   "metadata": {},
   "outputs": [],
   "source": [
    "list2=[1,2,3,4,5,6]"
   ]
  },
  {
   "cell_type": "code",
   "execution_count": 6,
   "id": "dd868438",
   "metadata": {},
   "outputs": [
    {
     "data": {
      "text/plain": [
       "[1, 2, 3, 4, 5, 6]"
      ]
     },
     "execution_count": 6,
     "metadata": {},
     "output_type": "execute_result"
    }
   ],
   "source": [
    "list2"
   ]
  },
  {
   "cell_type": "code",
   "execution_count": 7,
   "id": "0fd0140c",
   "metadata": {},
   "outputs": [],
   "source": [
    "list3=[11,12,13,14]"
   ]
  },
  {
   "cell_type": "code",
   "execution_count": 8,
   "id": "0c18f45e",
   "metadata": {},
   "outputs": [
    {
     "data": {
      "text/plain": [
       "[11, 12, 13, 14]"
      ]
     },
     "execution_count": 8,
     "metadata": {},
     "output_type": "execute_result"
    }
   ],
   "source": [
    "list3"
   ]
  },
  {
   "cell_type": "code",
   "execution_count": 9,
   "id": "8db00f93",
   "metadata": {},
   "outputs": [],
   "source": [
    "list4=[100,200,300,400,500]"
   ]
  },
  {
   "cell_type": "code",
   "execution_count": 10,
   "id": "882e598c",
   "metadata": {},
   "outputs": [
    {
     "data": {
      "text/plain": [
       "[100, 200, 300, 400, 500]"
      ]
     },
     "execution_count": 10,
     "metadata": {},
     "output_type": "execute_result"
    }
   ],
   "source": [
    "list4"
   ]
  },
  {
   "cell_type": "code",
   "execution_count": 11,
   "id": "638db812",
   "metadata": {},
   "outputs": [],
   "source": [
    "list5=[10.2,23.4,78.4]"
   ]
  },
  {
   "cell_type": "code",
   "execution_count": 12,
   "id": "78ba51de",
   "metadata": {},
   "outputs": [
    {
     "data": {
      "text/plain": [
       "[10.2, 23.4, 78.4]"
      ]
     },
     "execution_count": 12,
     "metadata": {},
     "output_type": "execute_result"
    }
   ],
   "source": [
    "list5"
   ]
  },
  {
   "cell_type": "code",
   "execution_count": 13,
   "id": "01cbfa7e",
   "metadata": {},
   "outputs": [],
   "source": [
    "list6=['a','b','c','d']"
   ]
  },
  {
   "cell_type": "code",
   "execution_count": 14,
   "id": "0ea278b5",
   "metadata": {},
   "outputs": [
    {
     "data": {
      "text/plain": [
       "['a', 'b', 'c', 'd']"
      ]
     },
     "execution_count": 14,
     "metadata": {},
     "output_type": "execute_result"
    }
   ],
   "source": [
    "list6"
   ]
  },
  {
   "cell_type": "code",
   "execution_count": 15,
   "id": "0340b6ee",
   "metadata": {},
   "outputs": [],
   "source": [
    "list7=['Burger','pizza','coke','icecream']"
   ]
  },
  {
   "cell_type": "code",
   "execution_count": 16,
   "id": "39c99f28",
   "metadata": {},
   "outputs": [
    {
     "data": {
      "text/plain": [
       "['Burger', 'pizza', 'coke', 'icecream']"
      ]
     },
     "execution_count": 16,
     "metadata": {},
     "output_type": "execute_result"
    }
   ],
   "source": [
    "list7"
   ]
  },
  {
   "cell_type": "code",
   "execution_count": 19,
   "id": "a6d1efbb",
   "metadata": {},
   "outputs": [],
   "source": [
    "list8=[55,89.34,'matrix','b',62,True]"
   ]
  },
  {
   "cell_type": "code",
   "execution_count": 20,
   "id": "1f1560a0",
   "metadata": {},
   "outputs": [
    {
     "data": {
      "text/plain": [
       "[55, 89.34, 'matrix', 'b', 62, True]"
      ]
     },
     "execution_count": 20,
     "metadata": {},
     "output_type": "execute_result"
    }
   ],
   "source": [
    "list8"
   ]
  },
  {
   "cell_type": "code",
   "execution_count": 22,
   "id": "29c10b83",
   "metadata": {},
   "outputs": [
    {
     "data": {
      "text/plain": [
       "[11, 12, 13, 14]"
      ]
     },
     "execution_count": 22,
     "metadata": {},
     "output_type": "execute_result"
    }
   ],
   "source": [
    "list3"
   ]
  },
  {
   "cell_type": "code",
   "execution_count": 23,
   "id": "c773e2f8",
   "metadata": {},
   "outputs": [
    {
     "data": {
      "text/plain": [
       "12"
      ]
     },
     "execution_count": 23,
     "metadata": {},
     "output_type": "execute_result"
    }
   ],
   "source": [
    "list3[1]"
   ]
  },
  {
   "cell_type": "code",
   "execution_count": 24,
   "id": "40d5826a",
   "metadata": {},
   "outputs": [
    {
     "data": {
      "text/plain": [
       "13"
      ]
     },
     "execution_count": 24,
     "metadata": {},
     "output_type": "execute_result"
    }
   ],
   "source": [
    "list3[2]"
   ]
  },
  {
   "cell_type": "code",
   "execution_count": 25,
   "id": "b7140ced",
   "metadata": {},
   "outputs": [
    {
     "data": {
      "text/plain": [
       "11"
      ]
     },
     "execution_count": 25,
     "metadata": {},
     "output_type": "execute_result"
    }
   ],
   "source": [
    "list3[0]"
   ]
  },
  {
   "cell_type": "code",
   "execution_count": 26,
   "id": "ffcbd354",
   "metadata": {},
   "outputs": [
    {
     "data": {
      "text/plain": [
       "14"
      ]
     },
     "execution_count": 26,
     "metadata": {},
     "output_type": "execute_result"
    }
   ],
   "source": [
    "list3[3]"
   ]
  },
  {
   "cell_type": "markdown",
   "id": "4c2e8840",
   "metadata": {},
   "source": [
    "slicing"
   ]
  },
  {
   "cell_type": "code",
   "execution_count": 38,
   "id": "0762df59",
   "metadata": {},
   "outputs": [],
   "source": [
    "list4=[100,200,300,400,500]"
   ]
  },
  {
   "cell_type": "code",
   "execution_count": 49,
   "id": "2f0b8869",
   "metadata": {},
   "outputs": [
    {
     "data": {
      "text/plain": [
       "[100, 200, 300, 400, 500]"
      ]
     },
     "execution_count": 49,
     "metadata": {},
     "output_type": "execute_result"
    }
   ],
   "source": [
    "list4"
   ]
  },
  {
   "cell_type": "code",
   "execution_count": 40,
   "id": "9355890c",
   "metadata": {},
   "outputs": [
    {
     "data": {
      "text/plain": [
       "[100]"
      ]
     },
     "execution_count": 40,
     "metadata": {},
     "output_type": "execute_result"
    }
   ],
   "source": [
    "list4[0:1]"
   ]
  },
  {
   "cell_type": "code",
   "execution_count": 41,
   "id": "0abe9da8",
   "metadata": {},
   "outputs": [
    {
     "data": {
      "text/plain": [
       "[100, 200]"
      ]
     },
     "execution_count": 41,
     "metadata": {},
     "output_type": "execute_result"
    }
   ],
   "source": [
    "list4[0:2]"
   ]
  },
  {
   "cell_type": "code",
   "execution_count": 42,
   "id": "8f15c282",
   "metadata": {},
   "outputs": [
    {
     "data": {
      "text/plain": [
       "[100, 200, 300]"
      ]
     },
     "execution_count": 42,
     "metadata": {},
     "output_type": "execute_result"
    }
   ],
   "source": [
    "list4[0:3]"
   ]
  },
  {
   "cell_type": "code",
   "execution_count": 43,
   "id": "0c0e3dc6",
   "metadata": {},
   "outputs": [
    {
     "data": {
      "text/plain": [
       "[100, 200, 300, 400]"
      ]
     },
     "execution_count": 43,
     "metadata": {},
     "output_type": "execute_result"
    }
   ],
   "source": [
    "list4[0:4]"
   ]
  },
  {
   "cell_type": "code",
   "execution_count": 44,
   "id": "ff6a48a9",
   "metadata": {},
   "outputs": [
    {
     "data": {
      "text/plain": [
       "[100, 200, 300, 400, 500]"
      ]
     },
     "execution_count": 44,
     "metadata": {},
     "output_type": "execute_result"
    }
   ],
   "source": [
    "list4[0:5]"
   ]
  },
  {
   "cell_type": "code",
   "execution_count": 45,
   "id": "9b9f80f4",
   "metadata": {},
   "outputs": [
    {
     "data": {
      "text/plain": [
       "[200, 300]"
      ]
     },
     "execution_count": 45,
     "metadata": {},
     "output_type": "execute_result"
    }
   ],
   "source": [
    "list4[1:3]"
   ]
  },
  {
   "cell_type": "code",
   "execution_count": 46,
   "id": "e9ef8506",
   "metadata": {},
   "outputs": [
    {
     "data": {
      "text/plain": [
       "[200, 300, 400]"
      ]
     },
     "execution_count": 46,
     "metadata": {},
     "output_type": "execute_result"
    }
   ],
   "source": [
    "list4[1:4]"
   ]
  },
  {
   "cell_type": "code",
   "execution_count": 47,
   "id": "b3fd15b7",
   "metadata": {},
   "outputs": [
    {
     "data": {
      "text/plain": [
       "[100, 200, 300, 400, 500]"
      ]
     },
     "execution_count": 47,
     "metadata": {},
     "output_type": "execute_result"
    }
   ],
   "source": [
    "list4[:5]"
   ]
  },
  {
   "cell_type": "code",
   "execution_count": 48,
   "id": "bf6c5549",
   "metadata": {},
   "outputs": [
    {
     "data": {
      "text/plain": [
       "[100, 200, 300, 400, 500]"
      ]
     },
     "execution_count": 48,
     "metadata": {},
     "output_type": "execute_result"
    }
   ],
   "source": [
    "list4[:]"
   ]
  },
  {
   "cell_type": "markdown",
   "id": "baf59c5d",
   "metadata": {},
   "source": [
    "Negative indexing"
   ]
  },
  {
   "cell_type": "code",
   "execution_count": 58,
   "id": "229426f6",
   "metadata": {},
   "outputs": [
    {
     "data": {
      "text/plain": [
       "500"
      ]
     },
     "execution_count": 58,
     "metadata": {},
     "output_type": "execute_result"
    }
   ],
   "source": [
    "list4[-1]"
   ]
  },
  {
   "cell_type": "code",
   "execution_count": 59,
   "id": "b491ada8",
   "metadata": {},
   "outputs": [
    {
     "data": {
      "text/plain": [
       "400"
      ]
     },
     "execution_count": 59,
     "metadata": {},
     "output_type": "execute_result"
    }
   ],
   "source": [
    "list4[-2]"
   ]
  },
  {
   "cell_type": "code",
   "execution_count": 60,
   "id": "85a6ce6a",
   "metadata": {},
   "outputs": [
    {
     "data": {
      "text/plain": [
       "[100, 200, 300, 400, 500]"
      ]
     },
     "execution_count": 60,
     "metadata": {},
     "output_type": "execute_result"
    }
   ],
   "source": [
    "list4[:]"
   ]
  },
  {
   "cell_type": "code",
   "execution_count": 63,
   "id": "c5498551",
   "metadata": {},
   "outputs": [
    {
     "data": {
      "text/plain": [
       "[100, 200, 300, 400]"
      ]
     },
     "execution_count": 63,
     "metadata": {},
     "output_type": "execute_result"
    }
   ],
   "source": [
    "list4[-5:-1]"
   ]
  },
  {
   "cell_type": "code",
   "execution_count": 64,
   "id": "1f2c30e5",
   "metadata": {},
   "outputs": [
    {
     "data": {
      "text/plain": [
       "['Burger', 'pizza', 'coke', 'icecream']"
      ]
     },
     "execution_count": 64,
     "metadata": {},
     "output_type": "execute_result"
    }
   ],
   "source": [
    "list7"
   ]
  },
  {
   "cell_type": "code",
   "execution_count": 65,
   "id": "3c790707",
   "metadata": {},
   "outputs": [
    {
     "data": {
      "text/plain": [
       "'coke'"
      ]
     },
     "execution_count": 65,
     "metadata": {},
     "output_type": "execute_result"
    }
   ],
   "source": [
    "list7[-2]"
   ]
  },
  {
   "cell_type": "code",
   "execution_count": 66,
   "id": "f3ab00b6",
   "metadata": {},
   "outputs": [
    {
     "data": {
      "text/plain": [
       "['Burger', 'pizza', 'coke']"
      ]
     },
     "execution_count": 66,
     "metadata": {},
     "output_type": "execute_result"
    }
   ],
   "source": [
    "list7[-4:-1]"
   ]
  },
  {
   "cell_type": "code",
   "execution_count": 69,
   "id": "1073a0ba",
   "metadata": {},
   "outputs": [
    {
     "data": {
      "text/plain": [
       "'icecream'"
      ]
     },
     "execution_count": 69,
     "metadata": {},
     "output_type": "execute_result"
    }
   ],
   "source": [
    "list7[-1]"
   ]
  },
  {
   "cell_type": "code",
   "execution_count": null,
   "id": "2a2ee71d",
   "metadata": {},
   "outputs": [],
   "source": []
  }
 ],
 "metadata": {
  "kernelspec": {
   "display_name": "Python 3 (ipykernel)",
   "language": "python",
   "name": "python3"
  },
  "language_info": {
   "codemirror_mode": {
    "name": "ipython",
    "version": 3
   },
   "file_extension": ".py",
   "mimetype": "text/x-python",
   "name": "python",
   "nbconvert_exporter": "python",
   "pygments_lexer": "ipython3",
   "version": "3.9.12"
  }
 },
 "nbformat": 4,
 "nbformat_minor": 5
}
