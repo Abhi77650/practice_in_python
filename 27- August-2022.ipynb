{
 "cells": [
  {
   "cell_type": "code",
   "execution_count": 1,
   "id": "819875ef",
   "metadata": {},
   "outputs": [],
   "source": [
    " import sqlite3"
   ]
  },
  {
   "cell_type": "markdown",
   "id": "7644dc4e",
   "metadata": {},
   "source": [
    "working with database using SQL (structure Query language)"
   ]
  },
  {
   "cell_type": "markdown",
   "id": "4e048c0c",
   "metadata": {},
   "source": [
    "# Create Database"
   ]
  },
  {
   "cell_type": "code",
   "execution_count": 3,
   "id": "ad9c2e83",
   "metadata": {},
   "outputs": [],
   "source": [
    "db=sqlite3.connect(\"student_database.db\")"
   ]
  },
  {
   "cell_type": "code",
   "execution_count": 4,
   "id": "c933471b",
   "metadata": {},
   "outputs": [],
   "source": [
    "cur=db.cursor()"
   ]
  },
  {
   "cell_type": "markdown",
   "id": "2345caba",
   "metadata": {},
   "source": [
    "# create table in student_database"
   ]
  },
  {
   "cell_type": "code",
   "execution_count": null,
   "id": "3257ef93",
   "metadata": {},
   "outputs": [],
   "source": []
  }
 ],
 "metadata": {
  "kernelspec": {
   "display_name": "Python 3 (ipykernel)",
   "language": "python",
   "name": "python3"
  },
  "language_info": {
   "codemirror_mode": {
    "name": "ipython",
    "version": 3
   },
   "file_extension": ".py",
   "mimetype": "text/x-python",
   "name": "python",
   "nbconvert_exporter": "python",
   "pygments_lexer": "ipython3",
   "version": "3.9.12"
  }
 },
 "nbformat": 4,
 "nbformat_minor": 5
}
